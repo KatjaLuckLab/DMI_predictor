{
 "cells": [
  {
   "cell_type": "markdown",
   "metadata": {},
   "source": [
    "# RRSv1:\n",
    "RRSv1 invovles generating random reference set for the SVM by performing randomization on protein pairs from the PRS\n",
    "and filtering out random pairs that coincide with known PPIs. The resulting pairs are scanned for SLiM matches and domain\n",
    "matches and DMI matches are detected between the random pairs."
   ]
  },
  {
   "cell_type": "markdown",
   "metadata": {},
   "source": [
    "## Make plots of the RRS:\n",
    "- Make some stats on how many proteins present in the RRS, how many known PPIs, how many SLiM types, how many domains...\n",
    "- For each SLiM type, how many proteins have at least 1 SLiM match of that SLiM type.\n",
    "- Show the domain frequency of each cognate domain in the DMI list in the human proteome.\n",
    "- How many DMIMatch for each DMI type can we get in x number of random protein pairs...\n",
    "- Show the distribution of SLiM matches among SLiM classes"
   ]
  },
  {
   "cell_type": "code",
   "execution_count": 1,
   "metadata": {},
   "outputs": [],
   "source": [
    "import sys\n",
    "sys.path.insert(1, '/Users/johnlee/Coding/Python/DMI/RRS')\n",
    "import re\n",
    "import pickle\n",
    "import matplotlib.pyplot as plt\n",
    "import numpy as np\n",
    "from RRSv1_formation import *\n",
    "with open('test_RRS_with_DMI_matches.pickle', 'rb') as pickle_file:\n",
    "    RRSv1= pickle.load(pickle_file)"
   ]
  },
  {
   "cell_type": "markdown",
   "metadata": {},
   "source": [
    "### Stats:\n",
    "- No. of proteins in RRSv1/PRS = 1,219\n",
    "- No. of DMI match instance in RRSv1= 4099\n",
    "- No. of SLiM types= 290\n",
    "- No. of SLiM types with at least 1 match found in the RRSv1= 274\n",
    "- No. of SLiM types without a match in the RRSv1= 16\n",
    "- No. of cognate domains= 131\n",
    "- No. of cognate domains found in RRSv1= 86\n",
    "- No. of cognate domains not found in RRSv1= 45\n",
    "- No. of known PPIs= 145,676\n",
    "- No. of DMI types with at least 1 match in the RRSv1= 221\n",
    "- No. of DMI types that do not have at least 20 instances in the RRSv1= 23"
   ]
  },
  {
   "cell_type": "code",
   "execution_count": 2,
   "metadata": {},
   "outputs": [
    {
     "data": {
      "text/plain": [
       "204"
      ]
     },
     "execution_count": 2,
     "metadata": {},
     "output_type": "execute_result"
    }
   ],
   "source": [
    "290-(131-45)"
   ]
  },
  {
   "cell_type": "code",
   "execution_count": 3,
   "metadata": {},
   "outputs": [],
   "source": [
    "DMI_set= set()\n",
    "for k,v in RRSv1.protein_pairs_dict.items():\n",
    "    for i in v.dmi_matches_dict.keys():\n",
    "        DMI_set.add(i)"
   ]
  },
  {
   "cell_type": "code",
   "execution_count": 4,
   "metadata": {},
   "outputs": [
    {
     "data": {
      "text/plain": [
       "4099"
      ]
     },
     "execution_count": 4,
     "metadata": {},
     "output_type": "execute_result"
    }
   ],
   "source": [
    "len(RRSv1.RRS_instances)"
   ]
  },
  {
   "cell_type": "markdown",
   "metadata": {},
   "source": [
    "### SLiM analysis\n",
    "--------------------------------------------------------------------------------------"
   ]
  },
  {
   "cell_type": "code",
   "execution_count": 6,
   "metadata": {},
   "outputs": [
    {
     "data": {
      "text/plain": [
       "290"
      ]
     },
     "execution_count": 6,
     "metadata": {},
     "output_type": "execute_result"
    }
   ],
   "source": [
    "slim_types_list= []\n",
    "for slimtype in RRSv1.SLiM_types_dict.values():\n",
    "    slim_types_list.append(slimtype.slim_id)\n",
    "len(slim_types_list)"
   ]
  },
  {
   "cell_type": "code",
   "execution_count": 9,
   "metadata": {},
   "outputs": [
    {
     "data": {
      "text/plain": [
       "{'ELME000321': 854,\n",
       " 'ELME000172': 103,\n",
       " 'ELME000102': 1140,\n",
       " 'ELME000101': 364,\n",
       " 'ELME000108': 1130,\n",
       " 'ELME000100': 995,\n",
       " 'ELME000103': 376,\n",
       " 'ELME000146': 1170,\n",
       " 'ELME000330': 4,\n",
       " 'ELME000331': 263,\n",
       " 'ELME000192': 5,\n",
       " 'ELME000231': 598,\n",
       " 'ELME000232': 177,\n",
       " 'ELME000342': 15,\n",
       " 'ELME000426': 118,\n",
       " 'ELME000323': 8,\n",
       " 'ELME000324': 8,\n",
       " 'ELME000389': 1,\n",
       " 'ELME000390': 56,\n",
       " 'ELME000391': 0,\n",
       " 'ELME000392': 3,\n",
       " 'ELME000184': 97,\n",
       " 'ELME000355': 91,\n",
       " 'ELME000351': 81,\n",
       " 'ELME000352': 195,\n",
       " 'ELME000353': 85,\n",
       " 'ELME000354': 12,\n",
       " 'ELME000248': 72,\n",
       " 'ELME000350': 0,\n",
       " 'ELME000289': 355,\n",
       " 'ELME000292': 159,\n",
       " 'ELME000322': 20,\n",
       " 'ELME000347': 0,\n",
       " 'ELME000269': 121,\n",
       " 'ELME000241': 27,\n",
       " 'ELME000388': 529,\n",
       " 'ELME000304': 41,\n",
       " 'ELME000308': 15,\n",
       " 'ELME000310': 7,\n",
       " 'ELME000097': 228,\n",
       " 'ELME000358': 780,\n",
       " 'ELME000106': 811,\n",
       " 'ELME000386': 2,\n",
       " 'ELME000433': 295,\n",
       " 'ELME000234': 114,\n",
       " 'ELME000233': 1039,\n",
       " 'ELME000437': 1,\n",
       " 'ELME000434': 218,\n",
       " 'ELME000422': 184,\n",
       " 'ELME000432': 971,\n",
       " 'ELME000423': 276,\n",
       " 'ELME000411': 217,\n",
       " 'ELME000320': 49,\n",
       " 'ELME000374': 2,\n",
       " 'ELME000137': 748,\n",
       " 'ELME000360': 67,\n",
       " 'ELME000425': 881,\n",
       " 'ELME000367': 745,\n",
       " 'ELME000237': 154,\n",
       " 'ELME000477': 812,\n",
       " 'ELME000476': 120,\n",
       " 'ELME000300': 145,\n",
       " 'ELME000239': 1104,\n",
       " 'ELME000240': 237,\n",
       " 'ELME000394': 992,\n",
       " 'ELME000246': 31,\n",
       " 'ELME000136': 1139,\n",
       " 'ELME000417': 1113,\n",
       " 'ELME000440': 1,\n",
       " 'ELME000418': 30,\n",
       " 'ELME000314': 32,\n",
       " 'ELME000311': 20,\n",
       " 'ELME000313': 580,\n",
       " 'ELME000412': 39,\n",
       " 'ELME000124': 88,\n",
       " 'ELME000190': 112,\n",
       " 'ELME000435': 414,\n",
       " 'ELME000436': 277,\n",
       " 'ELME000348': 0,\n",
       " 'ELME000349': 5,\n",
       " 'ELME000107': 9,\n",
       " 'ELME000468': 3,\n",
       " 'ELME000427': 28,\n",
       " 'ELME000285': 452,\n",
       " 'ELME000279': 24,\n",
       " 'ELME000287': 134,\n",
       " 'ELME000288': 72,\n",
       " 'ELME000293': 166,\n",
       " 'ELME000197': 896,\n",
       " 'ELME000198': 141,\n",
       " 'ELME000199': 7,\n",
       " 'ELME000134': 121,\n",
       " 'ELME000357': 6,\n",
       " 'ELME000406': 30,\n",
       " 'ELME000236': 1,\n",
       " 'ELME000325': 0,\n",
       " 'ELME000387': 1,\n",
       " 'ELME000047': 394,\n",
       " 'ELME000186': 8,\n",
       " 'ELME000375': 5,\n",
       " 'ELME000046': 5,\n",
       " 'ELME000424': 9,\n",
       " 'ELME000410': 107,\n",
       " 'ELME000098': 258,\n",
       " 'ELME000396': 18,\n",
       " 'ELME000459': 532,\n",
       " 'ELME000121': 14,\n",
       " 'ELME000338': 8,\n",
       " 'ELME000372': 13,\n",
       " 'ELME000373': 25,\n",
       " 'ELME000056': 77,\n",
       " 'ELME000148': 245,\n",
       " 'ELME000317': 373,\n",
       " 'ELME000319': 9,\n",
       " 'ELME000057': 198,\n",
       " 'ELME000058': 154,\n",
       " 'ELME000315': 4,\n",
       " 'ELME000125': 33,\n",
       " 'ELME000052': 1159,\n",
       " 'ELME000220': 1123,\n",
       " 'ELME000452': 57,\n",
       " 'ELME000398': 8,\n",
       " 'ELME000409': 20,\n",
       " 'ELME000441': 310,\n",
       " 'ELME000255': 4,\n",
       " 'ELME000407': 42,\n",
       " 'ELME000116': 1,\n",
       " 'ELME000302': 99,\n",
       " 'ELME000170': 5,\n",
       " 'ELME000141': 30,\n",
       " 'ELME000446': 77,\n",
       " 'ELME000129': 0,\n",
       " 'ELME000316': 136,\n",
       " 'ELME000439': 163,\n",
       " 'ELME000250': 19,\n",
       " 'ELME000251': 19,\n",
       " 'ELME000252': 16,\n",
       " 'ELME000408': 265,\n",
       " 'ELME000369': 910,\n",
       " 'ELME000368': 1090,\n",
       " 'ELME000371': 135,\n",
       " 'ELME000370': 1172,\n",
       " 'ELME000397': 60,\n",
       " 'ELME000299': 3,\n",
       " 'ELME000294': 27,\n",
       " 'ELME000167': 119,\n",
       " 'ELME000460': 179,\n",
       " 'ELME000385': 3,\n",
       " 'ELME000383': 4,\n",
       " 'ELME000384': 2,\n",
       " 'ELME000145': 353,\n",
       " 'ELME000340': 17,\n",
       " 'ELME000341': 68,\n",
       " 'ELME000346': 8,\n",
       " 'ELME000045': 520,\n",
       " 'ELME000326': 33,\n",
       " 'ELME000413': 28,\n",
       " 'ELME000303': 30,\n",
       " 'ELME000339': 4,\n",
       " 'ELME000475': 18,\n",
       " 'ELME000140': 191,\n",
       " 'ELME000483': 37,\n",
       " 'ELME000482': 498,\n",
       " 'ELME000086': 95,\n",
       " 'ELME000091': 118,\n",
       " 'ELME000089': 57,\n",
       " 'ELME000451': 22,\n",
       " 'ELME000080': 436,\n",
       " 'ELME000328': 742,\n",
       " 'ELME000377': 4,\n",
       " 'ELME000378': 0,\n",
       " 'ELME000329': 7,\n",
       " 'ELME000445': 56,\n",
       " 'ELME000099': 105,\n",
       " 'ELME000122': 518,\n",
       " 'ELME000095': 331,\n",
       " 'ELME000007': 136,\n",
       " 'ELME000301': 103,\n",
       " 'ELME000450': 319,\n",
       " 'ELME000094': 155,\n",
       " 'ELME000382': 62,\n",
       " 'ELME000381': 8,\n",
       " 'ELME000380': 4,\n",
       " 'ELME000379': 4,\n",
       " 'ELME000235': 55,\n",
       " 'ELME000420': 3,\n",
       " 'ELME000458': 927,\n",
       " 'ELME000084': 521,\n",
       " 'ELME000474': 561,\n",
       " 'ELME000083': 427,\n",
       " 'ELME000081': 745,\n",
       " 'ELME000465': 837,\n",
       " 'ELME000163': 665,\n",
       " 'ELME000182': 1148,\n",
       " 'ELME000183': 6,\n",
       " 'ELME000005': 451,\n",
       " 'ELME000006': 441,\n",
       " 'ELME000155': 1128,\n",
       " 'ELME000156': 279,\n",
       " 'ELME000157': 86,\n",
       " 'ELME000021': 0,\n",
       " 'ELME000022': 0,\n",
       " 'ELME000041': 53,\n",
       " 'ELME000327': 5,\n",
       " 'ELME000359': 5,\n",
       " 'ELME000335': 735,\n",
       " 'ELME000333': 903,\n",
       " 'ELME000254': 94,\n",
       " 'ELME000130': 1,\n",
       " 'ELME000117': 942,\n",
       " 'ELME000118': 94,\n",
       " 'ELME000133': 550,\n",
       " 'ELME000249': 220,\n",
       " 'ELME000017': 18,\n",
       " 'ELME000020': 518,\n",
       " 'ELME000142': 122,\n",
       " 'ELME000395': 818,\n",
       " 'ELME000419': 0,\n",
       " 'ELME000201': 16,\n",
       " 'ELME000438': 24,\n",
       " 'ELME000364': 334,\n",
       " 'ELME000365': 1209,\n",
       " 'ELME000361': 14,\n",
       " 'ELME000362': 26,\n",
       " 'ELME000363': 6,\n",
       " 'ELME000119': 4,\n",
       " 'ELME000104': 1,\n",
       " 'ELME000105': 34,\n",
       " 'ELME000003': 140,\n",
       " 'ELME000004': 90,\n",
       " 'ELME000135': 271,\n",
       " 'ELME000096': 9,\n",
       " 'ELME000059': 6,\n",
       " 'ELME000429': 533,\n",
       " 'ELME000153': 559,\n",
       " 'ELME000428': 579,\n",
       " 'ELME000063': 1160,\n",
       " 'ELME000064': 1170,\n",
       " 'ELME000160': 103,\n",
       " 'ELME000093': 535,\n",
       " 'ELME000461': 204,\n",
       " 'ELME000085': 1185,\n",
       " 'ELME000053': 1197,\n",
       " 'ELME000334': 277,\n",
       " 'ELME000336': 1174,\n",
       " 'ELME000337': 720,\n",
       " 'ELME000070': 1046,\n",
       " 'ELME000079': 389,\n",
       " 'ELME000060': 30,\n",
       " 'ELME000162': 144,\n",
       " 'ELME000161': 6,\n",
       " 'ELME000202': 1062,\n",
       " 'ELME000065': 527,\n",
       " 'ELME000008': 802,\n",
       " 'ELME000062': 1095,\n",
       " 'ELME000061': 368,\n",
       " 'ELME000442': 1103,\n",
       " 'ELME000443': 771,\n",
       " 'ELME000444': 1159,\n",
       " 'ELME000447': 5,\n",
       " 'ELME000159': 1139,\n",
       " 'ELME000175': 0,\n",
       " 'ELME000168': 1,\n",
       " 'ELME000002': 738,\n",
       " 'ELME000393': 1002,\n",
       " 'ELME000013': 5,\n",
       " 'ELME000092': 0,\n",
       " 'ELME000152': 0,\n",
       " 'ELME000247': 41,\n",
       " 'ELME000256': 0,\n",
       " 'ELME000259': 153,\n",
       " 'ELME000120': 1108,\n",
       " 'ELME000012': 1003,\n",
       " 'ELME000011': 20,\n",
       " 'ELME000253': 40,\n",
       " 'ELME000449': 41,\n",
       " 'ELME000010': 2,\n",
       " 'ELME000132': 0,\n",
       " 'ELME000149': 1033,\n",
       " 'ELME000150': 1,\n",
       " 'ELME000131': 1,\n",
       " 'ELME000187': 0,\n",
       " 'ELME000193': 522,\n",
       " 'ELME000276': 239,\n",
       " 'ELME000270': 277,\n",
       " 'ELME000278': 473,\n",
       " 'ELME000271': 565,\n",
       " 'ELME000462': 963,\n",
       " 'ELME000009': 7,\n",
       " 'ELME000069': 6}"
      ]
     },
     "execution_count": 9,
     "metadata": {},
     "output_type": "execute_result"
    }
   ],
   "source": [
    "slim_types_count_dict= {}\n",
    "for slimtype in slim_types_list:\n",
    "    slim_types_count_dict[slimtype]= 0\n",
    "    for protein, protein_inst in RRSv1.proteins_dict.items():\n",
    "        if slimtype in protein_inst.slim_matches_dict:\n",
    "            slim_types_count_dict[slimtype] += 1\n",
    "slim_types_count_dict"
   ]
  },
  {
   "cell_type": "code",
   "execution_count": 10,
   "metadata": {
    "scrolled": true
   },
   "outputs": [
    {
     "data": {
      "text/plain": [
       "274"
      ]
     },
     "execution_count": 10,
     "metadata": {},
     "output_type": "execute_result"
    }
   ],
   "source": [
    "no_slim_match= [k for k,v in slim_types_count_dict.items() if v != 0]\n",
    "len(no_slim_match)"
   ]
  },
  {
   "cell_type": "code",
   "execution_count": 11,
   "metadata": {},
   "outputs": [
    {
     "data": {
      "text/plain": [
       "{'ELME000391': 0,\n",
       " 'ELME000350': 0,\n",
       " 'ELME000347': 0,\n",
       " 'ELME000348': 0,\n",
       " 'ELME000325': 0,\n",
       " 'ELME000129': 0,\n",
       " 'ELME000378': 0,\n",
       " 'ELME000021': 0,\n",
       " 'ELME000022': 0,\n",
       " 'ELME000419': 0,\n",
       " 'ELME000175': 0,\n",
       " 'ELME000092': 0,\n",
       " 'ELME000152': 0,\n",
       " 'ELME000256': 0,\n",
       " 'ELME000132': 0,\n",
       " 'ELME000187': 0,\n",
       " 'ELME000389': 1,\n",
       " 'ELME000437': 1,\n",
       " 'ELME000440': 1,\n",
       " 'ELME000236': 1,\n",
       " 'ELME000387': 1,\n",
       " 'ELME000116': 1,\n",
       " 'ELME000130': 1,\n",
       " 'ELME000104': 1,\n",
       " 'ELME000168': 1,\n",
       " 'ELME000150': 1,\n",
       " 'ELME000131': 1,\n",
       " 'ELME000386': 2,\n",
       " 'ELME000374': 2,\n",
       " 'ELME000384': 2,\n",
       " 'ELME000010': 2,\n",
       " 'ELME000392': 3,\n",
       " 'ELME000468': 3,\n",
       " 'ELME000299': 3,\n",
       " 'ELME000385': 3,\n",
       " 'ELME000420': 3,\n",
       " 'ELME000330': 4,\n",
       " 'ELME000315': 4,\n",
       " 'ELME000255': 4,\n",
       " 'ELME000383': 4,\n",
       " 'ELME000339': 4,\n",
       " 'ELME000377': 4,\n",
       " 'ELME000380': 4,\n",
       " 'ELME000379': 4,\n",
       " 'ELME000119': 4,\n",
       " 'ELME000192': 5,\n",
       " 'ELME000349': 5,\n",
       " 'ELME000375': 5,\n",
       " 'ELME000046': 5,\n",
       " 'ELME000170': 5,\n",
       " 'ELME000327': 5,\n",
       " 'ELME000359': 5,\n",
       " 'ELME000447': 5,\n",
       " 'ELME000013': 5,\n",
       " 'ELME000357': 6,\n",
       " 'ELME000183': 6,\n",
       " 'ELME000363': 6,\n",
       " 'ELME000059': 6,\n",
       " 'ELME000161': 6,\n",
       " 'ELME000069': 6,\n",
       " 'ELME000310': 7,\n",
       " 'ELME000199': 7,\n",
       " 'ELME000329': 7,\n",
       " 'ELME000009': 7,\n",
       " 'ELME000323': 8,\n",
       " 'ELME000324': 8,\n",
       " 'ELME000186': 8,\n",
       " 'ELME000338': 8,\n",
       " 'ELME000398': 8,\n",
       " 'ELME000346': 8,\n",
       " 'ELME000381': 8,\n",
       " 'ELME000107': 9,\n",
       " 'ELME000424': 9,\n",
       " 'ELME000319': 9,\n",
       " 'ELME000096': 9,\n",
       " 'ELME000354': 12,\n",
       " 'ELME000372': 13,\n",
       " 'ELME000121': 14,\n",
       " 'ELME000361': 14,\n",
       " 'ELME000342': 15,\n",
       " 'ELME000308': 15,\n",
       " 'ELME000252': 16,\n",
       " 'ELME000201': 16,\n",
       " 'ELME000340': 17,\n",
       " 'ELME000396': 18,\n",
       " 'ELME000475': 18,\n",
       " 'ELME000017': 18,\n",
       " 'ELME000250': 19,\n",
       " 'ELME000251': 19,\n",
       " 'ELME000322': 20,\n",
       " 'ELME000311': 20,\n",
       " 'ELME000409': 20,\n",
       " 'ELME000011': 20,\n",
       " 'ELME000451': 22,\n",
       " 'ELME000279': 24,\n",
       " 'ELME000438': 24,\n",
       " 'ELME000373': 25,\n",
       " 'ELME000362': 26,\n",
       " 'ELME000241': 27,\n",
       " 'ELME000294': 27,\n",
       " 'ELME000427': 28,\n",
       " 'ELME000413': 28,\n",
       " 'ELME000418': 30,\n",
       " 'ELME000406': 30,\n",
       " 'ELME000141': 30,\n",
       " 'ELME000303': 30,\n",
       " 'ELME000060': 30,\n",
       " 'ELME000246': 31,\n",
       " 'ELME000314': 32,\n",
       " 'ELME000125': 33,\n",
       " 'ELME000326': 33,\n",
       " 'ELME000105': 34,\n",
       " 'ELME000483': 37,\n",
       " 'ELME000412': 39,\n",
       " 'ELME000253': 40,\n",
       " 'ELME000304': 41,\n",
       " 'ELME000247': 41,\n",
       " 'ELME000449': 41,\n",
       " 'ELME000407': 42,\n",
       " 'ELME000320': 49,\n",
       " 'ELME000041': 53,\n",
       " 'ELME000235': 55,\n",
       " 'ELME000390': 56,\n",
       " 'ELME000445': 56,\n",
       " 'ELME000452': 57,\n",
       " 'ELME000089': 57,\n",
       " 'ELME000397': 60,\n",
       " 'ELME000382': 62,\n",
       " 'ELME000360': 67,\n",
       " 'ELME000341': 68,\n",
       " 'ELME000248': 72,\n",
       " 'ELME000288': 72,\n",
       " 'ELME000056': 77,\n",
       " 'ELME000446': 77,\n",
       " 'ELME000351': 81,\n",
       " 'ELME000353': 85,\n",
       " 'ELME000157': 86,\n",
       " 'ELME000124': 88,\n",
       " 'ELME000004': 90,\n",
       " 'ELME000355': 91,\n",
       " 'ELME000254': 94,\n",
       " 'ELME000118': 94,\n",
       " 'ELME000086': 95,\n",
       " 'ELME000184': 97,\n",
       " 'ELME000302': 99,\n",
       " 'ELME000172': 103,\n",
       " 'ELME000301': 103,\n",
       " 'ELME000160': 103,\n",
       " 'ELME000099': 105,\n",
       " 'ELME000410': 107,\n",
       " 'ELME000190': 112,\n",
       " 'ELME000234': 114,\n",
       " 'ELME000426': 118,\n",
       " 'ELME000091': 118,\n",
       " 'ELME000167': 119,\n",
       " 'ELME000476': 120,\n",
       " 'ELME000269': 121,\n",
       " 'ELME000134': 121,\n",
       " 'ELME000142': 122,\n",
       " 'ELME000287': 134,\n",
       " 'ELME000371': 135,\n",
       " 'ELME000316': 136,\n",
       " 'ELME000007': 136,\n",
       " 'ELME000003': 140,\n",
       " 'ELME000198': 141,\n",
       " 'ELME000162': 144,\n",
       " 'ELME000300': 145,\n",
       " 'ELME000259': 153,\n",
       " 'ELME000237': 154,\n",
       " 'ELME000058': 154,\n",
       " 'ELME000094': 155,\n",
       " 'ELME000292': 159,\n",
       " 'ELME000439': 163,\n",
       " 'ELME000293': 166,\n",
       " 'ELME000232': 177,\n",
       " 'ELME000460': 179,\n",
       " 'ELME000422': 184,\n",
       " 'ELME000140': 191,\n",
       " 'ELME000352': 195,\n",
       " 'ELME000057': 198,\n",
       " 'ELME000461': 204,\n",
       " 'ELME000411': 217,\n",
       " 'ELME000434': 218,\n",
       " 'ELME000249': 220,\n",
       " 'ELME000097': 228,\n",
       " 'ELME000240': 237,\n",
       " 'ELME000276': 239,\n",
       " 'ELME000148': 245,\n",
       " 'ELME000098': 258,\n",
       " 'ELME000331': 263,\n",
       " 'ELME000408': 265,\n",
       " 'ELME000135': 271,\n",
       " 'ELME000423': 276,\n",
       " 'ELME000436': 277,\n",
       " 'ELME000334': 277,\n",
       " 'ELME000270': 277,\n",
       " 'ELME000156': 279,\n",
       " 'ELME000433': 295,\n",
       " 'ELME000441': 310,\n",
       " 'ELME000450': 319,\n",
       " 'ELME000095': 331,\n",
       " 'ELME000364': 334,\n",
       " 'ELME000145': 353,\n",
       " 'ELME000289': 355,\n",
       " 'ELME000101': 364,\n",
       " 'ELME000061': 368,\n",
       " 'ELME000317': 373,\n",
       " 'ELME000103': 376,\n",
       " 'ELME000079': 389,\n",
       " 'ELME000047': 394,\n",
       " 'ELME000435': 414,\n",
       " 'ELME000083': 427,\n",
       " 'ELME000080': 436,\n",
       " 'ELME000006': 441,\n",
       " 'ELME000005': 451,\n",
       " 'ELME000285': 452,\n",
       " 'ELME000278': 473,\n",
       " 'ELME000482': 498,\n",
       " 'ELME000122': 518,\n",
       " 'ELME000020': 518,\n",
       " 'ELME000045': 520,\n",
       " 'ELME000084': 521,\n",
       " 'ELME000193': 522,\n",
       " 'ELME000065': 527,\n",
       " 'ELME000388': 529,\n",
       " 'ELME000459': 532,\n",
       " 'ELME000429': 533,\n",
       " 'ELME000093': 535,\n",
       " 'ELME000133': 550,\n",
       " 'ELME000153': 559,\n",
       " 'ELME000474': 561,\n",
       " 'ELME000271': 565,\n",
       " 'ELME000428': 579,\n",
       " 'ELME000313': 580,\n",
       " 'ELME000231': 598,\n",
       " 'ELME000163': 665,\n",
       " 'ELME000337': 720,\n",
       " 'ELME000335': 735,\n",
       " 'ELME000002': 738,\n",
       " 'ELME000328': 742,\n",
       " 'ELME000367': 745,\n",
       " 'ELME000081': 745,\n",
       " 'ELME000137': 748,\n",
       " 'ELME000443': 771,\n",
       " 'ELME000358': 780,\n",
       " 'ELME000008': 802,\n",
       " 'ELME000106': 811,\n",
       " 'ELME000477': 812,\n",
       " 'ELME000395': 818,\n",
       " 'ELME000465': 837,\n",
       " 'ELME000321': 854,\n",
       " 'ELME000425': 881,\n",
       " 'ELME000197': 896,\n",
       " 'ELME000333': 903,\n",
       " 'ELME000369': 910,\n",
       " 'ELME000458': 927,\n",
       " 'ELME000117': 942,\n",
       " 'ELME000462': 963,\n",
       " 'ELME000432': 971,\n",
       " 'ELME000394': 992,\n",
       " 'ELME000100': 995,\n",
       " 'ELME000393': 1002,\n",
       " 'ELME000012': 1003,\n",
       " 'ELME000149': 1033,\n",
       " 'ELME000233': 1039,\n",
       " 'ELME000070': 1046,\n",
       " 'ELME000202': 1062,\n",
       " 'ELME000368': 1090,\n",
       " 'ELME000062': 1095,\n",
       " 'ELME000442': 1103,\n",
       " 'ELME000239': 1104,\n",
       " 'ELME000120': 1108,\n",
       " 'ELME000417': 1113,\n",
       " 'ELME000220': 1123,\n",
       " 'ELME000155': 1128,\n",
       " 'ELME000108': 1130,\n",
       " 'ELME000136': 1139,\n",
       " 'ELME000159': 1139,\n",
       " 'ELME000102': 1140,\n",
       " 'ELME000182': 1148,\n",
       " 'ELME000052': 1159,\n",
       " 'ELME000444': 1159,\n",
       " 'ELME000063': 1160,\n",
       " 'ELME000146': 1170,\n",
       " 'ELME000064': 1170,\n",
       " 'ELME000370': 1172,\n",
       " 'ELME000336': 1174,\n",
       " 'ELME000085': 1185,\n",
       " 'ELME000053': 1197,\n",
       " 'ELME000365': 1209}"
      ]
     },
     "execution_count": 11,
     "metadata": {},
     "output_type": "execute_result"
    }
   ],
   "source": [
    "slim_types_count_dict= dict(sorted(slim_types_count_dict.items(), key= lambda x:x[1]))\n",
    "slim_types_count_dict"
   ]
  },
  {
   "cell_type": "code",
   "execution_count": 12,
   "metadata": {},
   "outputs": [
    {
     "name": "stdout",
     "output_type": "stream",
     "text": [
      "[(2, 2), (1, 7), (4, 2), (3, 3), (5, 2)]\n"
     ]
    }
   ],
   "source": [
    "# How sorting a dict by its values as the 'key' works:\n",
    "p = [(3, 3), (4, 2), (2, 2), (5, 2), (1, 7)] \n",
    "\n",
    "q = sorted(p, key=lambda x: x[0]*x[1]) \n",
    "print(q) # [(2, 2), (1, 7), (4, 2), (3, 3), (5, 2)] "
   ]
  },
  {
   "cell_type": "code",
   "execution_count": 13,
   "metadata": {
    "scrolled": false
   },
   "outputs": [
    {
     "data": {
      "image/png": "[encoded data removed]",
      "text/plain": [
       "<Figure size 1080x288 with 1 Axes>"
      ]
     },
     "metadata": {
      "needs_background": "light"
     },
     "output_type": "display_data"
    }
   ],
   "source": [
    "# sort dict in ascending order\n",
    "n= 80\n",
    "slim_types_count_keys= list(slim_types_count_dict.keys())\n",
    "slim_types_count_values= list(slim_types_count_dict.values())\n",
    "\n",
    "plt.figure(figsize=(15, 4))\n",
    "plt.bar([RRSv1.SLiM_types_dict[slim_type].name for slim_type in slim_types_count_keys[:n]],\n",
    "        slim_types_count_values[:n])\n",
    "# plt.yscale('log')\n",
    "plt.xticks([RRSv1.SLiM_types_dict[slim_type].name for slim_type in slim_types_count_keys[:n]], rotation= 90,\n",
    "          fontsize= 9)\n",
    "plt.xlim([-1, n])\n",
    "plt.title('80 SLiM types with the least matches in the RRSv1')\n",
    "plt.ylabel('Number of protein with at least 1 SLiM match')\n",
    "plt.tight_layout()\n",
    "\n",
    "plt.savefig('/Users/johnlee/Coding/Python/DMI/RRS/Plots/slim_types_least_match_in_RRSv1.pdf')\n",
    "\n",
    "plt.show()"
   ]
  },
  {
   "cell_type": "markdown",
   "metadata": {},
   "source": [
    "16 SLiM types do not have a match in the RRSv1."
   ]
  },
  {
   "cell_type": "code",
   "execution_count": 14,
   "metadata": {},
   "outputs": [
    {
     "data": {
      "image/png": "[encoded data removed]",
      "text/plain": [
       "<Figure size 1080x288 with 1 Axes>"
      ]
     },
     "metadata": {
      "needs_background": "light"
     },
     "output_type": "display_data"
    }
   ],
   "source": [
    "# sort dict in ascending order\n",
    "n= -80\n",
    "slim_types_count_keys= list(slim_types_count_dict.keys())\n",
    "slim_types_count_values= list(slim_types_count_dict.values())\n",
    "\n",
    "plt.figure(figsize=(15, 4))\n",
    "plt.bar([RRSv1.SLiM_types_dict[slim_type].name for slim_type in slim_types_count_keys[n:]],\n",
    "        slim_types_count_values[n:])\n",
    "# plt.yscale('log')\n",
    "plt.xticks([RRSv1.SLiM_types_dict[slim_type].name for slim_type in slim_types_count_keys[n:]], rotation= 90,\n",
    "          fontsize= 9)\n",
    "plt.xlim([-1, -n])\n",
    "plt.ylim([250, 1219])\n",
    "plt.title('80 SLiM types with the most matches in the RRSv1')\n",
    "plt.ylabel('Number of protein with at least 1 SLiM match')\n",
    "plt.tight_layout()\n",
    "\n",
    "plt.savefig('/Users/johnlee/Coding/Python/DMI/RRS/Plots/slim_types_most_match_in_RRSv1.pdf')\n",
    "\n",
    "plt.show()"
   ]
  },
  {
   "cell_type": "code",
   "execution_count": 15,
   "metadata": {},
   "outputs": [],
   "source": [
    "slim_class_count_dict= {}\n",
    "for slim_type, count in slim_types_count_dict.items():\n",
    "    slim_name= RRSv1.SLiM_types_dict[slim_type].name\n",
    "    slim_class= slim_name[:3]\n",
    "    slim_class_count_dict[slim_class] = slim_class_count_dict.get(slim_class, 0) + count"
   ]
  },
  {
   "cell_type": "code",
   "execution_count": 16,
   "metadata": {
    "scrolled": true
   },
   "outputs": [
    {
     "data": {
      "image/png": "[encoded data removed]",
      "text/plain": [
       "<Figure size 432x360 with 1 Axes>"
      ]
     },
     "metadata": {
      "needs_background": "light"
     },
     "output_type": "display_data"
    }
   ],
   "source": [
    "slim_class_count_dict= dict(sorted(slim_class_count_dict.items(), key=lambda item: item[0]))\n",
    "\n",
    "\n",
    "plt.figure(figsize= (6,5))\n",
    "plt.bar(slim_class_count_dict.keys(), slim_class_count_dict.values())\n",
    "plt.title('Number of SLiM matches in RRSv1 among SLiM classes\\n (Not normalized according to SLiM types within each class)')\n",
    "plt.ylabel('Number of protein with SLiM match from SLiM class')\n",
    "\n",
    "plt.savefig('/Users/johnlee/Coding/Python/DMI/RRS/Plots/unnormalized_slim_matches_by_class_RRSv1.pdf')\n",
    "\n",
    "plt.show()"
   ]
  },
  {
   "cell_type": "markdown",
   "metadata": {},
   "source": [
    "This distribution of SLiM matches among classes is NOT normalized."
   ]
  },
  {
   "cell_type": "code",
   "execution_count": 17,
   "metadata": {},
   "outputs": [
    {
     "data": {
      "text/plain": [
       "{'CLV': 11, 'DEG': 25, 'DOC': 31, 'LIG': 164, 'MOD': 37, 'TRG': 22}"
      ]
     },
     "execution_count": 17,
     "metadata": {},
     "output_type": "execute_result"
    }
   ],
   "source": [
    "slim_types_in_class_dict= {}\n",
    "for k,v in slim_types_count_dict.items():\n",
    "    name= RRSv1.SLiM_types_dict[k].name\n",
    "    slim_class= name[:3]\n",
    "    slim_types_in_class_dict[slim_class]= slim_types_in_class_dict.get(slim_class, 0) + 1\n",
    "slim_types_in_class_dict= dict(sorted(slim_types_in_class_dict.items(), key= lambda item:item[0]))\n",
    "slim_types_in_class_dict"
   ]
  },
  {
   "cell_type": "code",
   "execution_count": 18,
   "metadata": {},
   "outputs": [
    {
     "data": {
      "text/plain": [
       "{'CLV': 582, 'DEG': 113, 'DOC': 401, 'LIG': 214, 'MOD': 562, 'TRG': 295}"
      ]
     },
     "execution_count": 18,
     "metadata": {},
     "output_type": "execute_result"
    }
   ],
   "source": [
    "normalized_slim_class_count_dict= {}\n",
    "for k,v in slim_class_count_dict.items():\n",
    "    normalized_slim_class_count_dict[k]= round(v/slim_types_in_class_dict[k])\n",
    "normalized_slim_class_count_dict"
   ]
  },
  {
   "cell_type": "code",
   "execution_count": 19,
   "metadata": {},
   "outputs": [
    {
     "data": {
      "image/png": "[encoded data removed]",
      "text/plain": [
       "<Figure size 432x360 with 1 Axes>"
      ]
     },
     "metadata": {
      "needs_background": "light"
     },
     "output_type": "display_data"
    }
   ],
   "source": [
    "plt.figure(figsize= (6,5))\n",
    "plt.bar(normalized_slim_class_count_dict.keys(), normalized_slim_class_count_dict.values())\n",
    "plt.title('Number of SLiM matches in RRSv1 among SLiM classes\\n (Normalized according to SLiM types within each class)')\n",
    "plt.ylabel('Number of protein with SLiM match from SLiM class')\n",
    "\n",
    "plt.savefig('/Users/johnlee/Coding/Python/DMI/RRS/Plots/normalized_slim_matches_by_class_RRSv1.pdf')\n",
    "\n",
    "plt.show()"
   ]
  },
  {
   "cell_type": "markdown",
   "metadata": {},
   "source": [
    "After normalizing the distribution of SLiM match among SLiM class according to the distribution of SLiM types among SLiM class, the CLV class now has the higher amount of SLiM match in the RRSv1.  "
   ]
  },
  {
   "cell_type": "markdown",
   "metadata": {},
   "source": [
    "### Domain analysis\n",
    "--------------------------------------------------------------------------------------"
   ]
  },
  {
   "cell_type": "code",
   "execution_count": 20,
   "metadata": {},
   "outputs": [
    {
     "data": {
      "text/plain": [
       "131"
      ]
     },
     "execution_count": 20,
     "metadata": {},
     "output_type": "execute_result"
    }
   ],
   "source": [
    "domain_list= []\n",
    "for k in RRSv1.domain_types_dict:\n",
    "    domain_list.append(k)\n",
    "len(domain_list)"
   ]
  },
  {
   "cell_type": "code",
   "execution_count": 22,
   "metadata": {},
   "outputs": [
    {
     "data": {
      "text/plain": [
       "131"
      ]
     },
     "execution_count": 22,
     "metadata": {},
     "output_type": "execute_result"
    }
   ],
   "source": [
    "domain_count_dict= {}\n",
    "for domain in domain_list:\n",
    "    domain_count_dict[domain]= 0\n",
    "    for protein, protein_inst in RRSv1.proteins_dict.items():\n",
    "        if domain in protein_inst.domain_matches_dict:\n",
    "            domain_count_dict[domain] += 1\n",
    "len(domain_count_dict)"
   ]
  },
  {
   "cell_type": "code",
   "execution_count": 23,
   "metadata": {},
   "outputs": [
    {
     "data": {
      "text/plain": [
       "45"
      ]
     },
     "execution_count": 23,
     "metadata": {},
     "output_type": "execute_result"
    }
   ],
   "source": [
    "d= [k for k,v in domain_count_dict.items() if v== 0]\n",
    "len(d)"
   ]
  },
  {
   "cell_type": "code",
   "execution_count": 24,
   "metadata": {},
   "outputs": [
    {
     "data": {
      "text/plain": [
       "{'PF00675': 0,\n",
       " 'PF01112': 0,\n",
       " 'PF02617': 0,\n",
       " 'SM00370': 0,\n",
       " 'SM01084': 0,\n",
       " 'PF03145': 0,\n",
       " 'PF02985': 0,\n",
       " 'SM00809': 0,\n",
       " 'PF02296': 0,\n",
       " 'SM00238': 0,\n",
       " 'SM01052': 0,\n",
       " 'SM00582': 0,\n",
       " 'PF00928': 0,\n",
       " 'PF01221': 0,\n",
       " 'PF02301': 0,\n",
       " 'PF16756': 0,\n",
       " 'PF04882': 0,\n",
       " 'SM00392': 0,\n",
       " 'PF08784': 0,\n",
       " 'PF04000': 0,\n",
       " 'PF08066': 0,\n",
       " 'PF02671': 0,\n",
       " 'PF11976': 0,\n",
       " 'PF03271': 0,\n",
       " 'PF00899': 0,\n",
       " 'PF03671': 0,\n",
       " 'PF05118': 0,\n",
       " 'PF00432': 0,\n",
       " 'PF01239': 0,\n",
       " 'PF00535': 0,\n",
       " 'PF01082': 0,\n",
       " 'PF02485': 0,\n",
       " 'PF02516': 0,\n",
       " 'PF01233': 0,\n",
       " 'PF02799': 0,\n",
       " 'PF10250': 0,\n",
       " 'PF02709': 0,\n",
       " 'PF06325': 0,\n",
       " 'PF01529': 0,\n",
       " 'PF03062': 0,\n",
       " 'SM01020': 0,\n",
       " 'PF00810': 0,\n",
       " 'PF01217': 0,\n",
       " 'PF08389': 0,\n",
       " 'PF00026': 0,\n",
       " 'PF00082': 1,\n",
       " 'PF03568': 1,\n",
       " 'PF02747': 1,\n",
       " 'SM00612': 1,\n",
       " 'SM00396': 1,\n",
       " 'SM00702': 1,\n",
       " 'PF12436': 1,\n",
       " 'SM00101': 1,\n",
       " 'PF11527': 1,\n",
       " 'PF01394': 1,\n",
       " 'PF04054': 1,\n",
       " 'SM01268': 1,\n",
       " 'PF00389': 1,\n",
       " 'PF12180': 1,\n",
       " 'SM00027': 1,\n",
       " 'PF01652': 1,\n",
       " 'SM00444': 1,\n",
       " 'PF13415': 1,\n",
       " 'SM00300': 1,\n",
       " 'SM00327': 1,\n",
       " 'SM01243': 1,\n",
       " 'PF13949': 1,\n",
       " 'PF16413': 1,\n",
       " 'SM01142': 1,\n",
       " 'PF00705': 1,\n",
       " 'PF04695': 1,\n",
       " 'PF01857': 1,\n",
       " 'PF01858': 1,\n",
       " 'PF16727': 1,\n",
       " 'PF12470': 1,\n",
       " 'PF05076': 1,\n",
       " 'PF01044': 1,\n",
       " 'SM00177': 1,\n",
       " 'SM00288': 1,\n",
       " 'SM00020': 2,\n",
       " 'PF02201': 2,\n",
       " 'SM00268': 2,\n",
       " 'PF03623': 2,\n",
       " 'SM00240': 2,\n",
       " 'SM00223': 2,\n",
       " 'PF02136': 2,\n",
       " 'SM00285': 2,\n",
       " 'SM00191': 2,\n",
       " 'PF08558': 2,\n",
       " 'SM00146': 2,\n",
       " 'SM00156': 3,\n",
       " 'SM00456': 3,\n",
       " 'PF03556': 3,\n",
       " 'SM00389': 3,\n",
       " 'PF08397': 3,\n",
       " 'PF01753': 3,\n",
       " 'SM00517': 3,\n",
       " 'PF00635': 3,\n",
       " 'SM00115': 4,\n",
       " 'SM00461': 4,\n",
       " 'PF12202': 4,\n",
       " 'SM00292': 4,\n",
       " 'SM00212': 4,\n",
       " 'SM00135': 4,\n",
       " 'SM00324': 4,\n",
       " 'SM00028': 5,\n",
       " 'SM00061': 5,\n",
       " 'PF01603': 5,\n",
       " 'SM00337': 5,\n",
       " 'SM01244': 5,\n",
       " 'SM00449': 5,\n",
       " 'SM00430': 6,\n",
       " 'SM00187': 6,\n",
       " 'PF02991': 6,\n",
       " 'SM00185': 6,\n",
       " 'PF00134': 7,\n",
       " 'SM00054': 7,\n",
       " 'PF00640': 7,\n",
       " 'SM00462': 7,\n",
       " 'SM00320': 9,\n",
       " 'SM00248': 12,\n",
       " 'PF00271': 12,\n",
       " 'SM00487': 12,\n",
       " 'SM00360': 13,\n",
       " 'SM00133': 16,\n",
       " 'SM00219': 19,\n",
       " 'SM00252': 20,\n",
       " 'SM00228': 21,\n",
       " 'SM00326': 33,\n",
       " 'PF00069': 68,\n",
       " 'SM00220': 70}"
      ]
     },
     "execution_count": 24,
     "metadata": {},
     "output_type": "execute_result"
    }
   ],
   "source": [
    "proteins_with_cognate_domains= {}\n",
    "for d in domain_list:\n",
    "    proteins_with_cognate_domains[d]= 0\n",
    "    for v in RRSv1.proteins_dict.values():\n",
    "        if d in v.domain_matches_dict:\n",
    "            proteins_with_cognate_domains[d] +=1 \n",
    "proteins_with_cognate_domains= dict(sorted(proteins_with_cognate_domains.items(), key= lambda item:item[1]))\n",
    "proteins_with_cognate_domains"
   ]
  },
  {
   "cell_type": "code",
   "execution_count": 25,
   "metadata": {},
   "outputs": [
    {
     "data": {
      "image/png": "[encoded data removed]",
      "text/plain": [
       "<Figure size 1080x288 with 1 Axes>"
      ]
     },
     "metadata": {
      "needs_background": "light"
     },
     "output_type": "display_data"
    }
   ],
   "source": [
    "n= 66\n",
    "keys= list(proteins_with_cognate_domains.keys())\n",
    "values= list(proteins_with_cognate_domains.values())\n",
    "\n",
    "plt.figure(figsize=(15, 4))\n",
    "plt.bar([RRSv1.domain_types_dict[domain_id].name for domain_id in keys[:n]],\n",
    "        values[:n])\n",
    "# plt.yscale('log')\n",
    "plt.xticks([RRSv1.domain_types_dict[domain_id].name for domain_id in keys[:n]], rotation= 90,\n",
    "          fontsize= 10)\n",
    "plt.xlim([-1, n])\n",
    "# plt.ylim([250, 1219])\n",
    "plt.title(f'{n} domain types with the least matches in the RRSv1')\n",
    "plt.ylabel('Number of protein with at least 1 domain match')\n",
    "plt.tight_layout()\n",
    "\n",
    "plt.savefig('/Users/johnlee/Coding/Python/DMI/RRS/Plots/domain_types_least_match_in_RRSv1.pdf')\n",
    "\n",
    "plt.show()"
   ]
  },
  {
   "cell_type": "code",
   "execution_count": 26,
   "metadata": {},
   "outputs": [
    {
     "data": {
      "image/png": "[encoded data removed]",
      "text/plain": [
       "<Figure size 1080x288 with 1 Axes>"
      ]
     },
     "metadata": {
      "needs_background": "light"
     },
     "output_type": "display_data"
    }
   ],
   "source": [
    "n= 66\n",
    "keys= list(proteins_with_cognate_domains.keys())\n",
    "values= list(proteins_with_cognate_domains.values())\n",
    "\n",
    "plt.figure(figsize=(15, 4))\n",
    "plt.bar([RRSv1.domain_types_dict[domain_id].name for domain_id in keys[-n:]],\n",
    "        values[-n:])\n",
    "# plt.yscale('log')\n",
    "plt.xticks([RRSv1.domain_types_dict[domain_id].name for domain_id in keys[-n:]], rotation= 90,\n",
    "          fontsize= 10)\n",
    "plt.xlim([-1, n])\n",
    "# plt.ylim([250, 1219])\n",
    "plt.title(f'{n} domain types with the most matches in the RRSv1')\n",
    "plt.ylabel('Number of protein with at least 1 domain match')\n",
    "plt.tight_layout()\n",
    "\n",
    "plt.savefig('/Users/johnlee/Coding/Python/DMI/RRS/Plots/domain_types_most_match_in_RRSv1.pdf')\n",
    "\n",
    "plt.show()"
   ]
  },
  {
   "cell_type": "markdown",
   "metadata": {},
   "source": [
    "### DMI analysis\n",
    "------------------------"
   ]
  },
  {
   "cell_type": "code",
   "execution_count": 27,
   "metadata": {},
   "outputs": [],
   "source": [
    "import pandas as pd\n",
    "pd.set_option('display.max_rows', None)\n",
    "df= pd.read_csv('test_RRS.tsv', sep= '\\t', index_col=0)"
   ]
  },
  {
   "cell_type": "code",
   "execution_count": 28,
   "metadata": {},
   "outputs": [
    {
     "data": {
      "text/plain": [
       "23"
      ]
     },
     "execution_count": 28,
     "metadata": {},
     "output_type": "execute_result"
    }
   ],
   "source": [
    "DMI_list= df.Elm.to_list()\n",
    "DMI_list_dict= {}\n",
    "for dmi in DMI_list:\n",
    "    DMI_list_dict[dmi]= DMI_list_dict.get(dmi, 0) +1\n",
    "DMI_list_less_20= [k for k,v in DMI_list_dict.items() if v <20]\n",
    "len(DMI_list_less_20)"
   ]
  },
  {
   "cell_type": "code",
   "execution_count": 29,
   "metadata": {
    "scrolled": true
   },
   "outputs": [
    {
     "data": {
      "image/png": "[encoded data removed]",
      "text/plain": [
       "<Figure size 720x360 with 1 Axes>"
      ]
     },
     "metadata": {
      "needs_background": "light"
     },
     "output_type": "display_data"
    }
   ],
   "source": [
    "DMI_types_counts= df['Elm'].value_counts()\n",
    "sel= DMI_types_counts.loc[DMI_types_counts.values <20]\n",
    "\n",
    "plt.figure(figsize= (10,5))\n",
    "plt.bar(sel.index, sel.values)\n",
    "plt.xticks(sel.index, rotation= 90, fontsize= 10)\n",
    "plt.xlim([-1, len(sel)])\n",
    "\n",
    "plt.title('DMI types with <20 DMI match instance in the RRSv1')\n",
    "plt.ylabel('Number of DMI match instance')\n",
    "plt.show()"
   ]
  },
  {
   "cell_type": "code",
   "execution_count": 30,
   "metadata": {},
   "outputs": [
    {
     "data": {
      "text/html": [
       "<div>\n",
       "<style scoped>\n",
       "    .dataframe tbody tr th:only-of-type {\n",
       "        vertical-align: middle;\n",
       "    }\n",
       "\n",
       "    .dataframe tbody tr th {\n",
       "        vertical-align: top;\n",
       "    }\n",
       "\n",
       "    .dataframe thead th {\n",
       "        text-align: right;\n",
       "    }\n",
       "</style>\n",
       "<table border=\"1\" class=\"dataframe\">\n",
       "  <thead>\n",
       "    <tr style=\"text-align: right;\">\n",
       "      <th></th>\n",
       "      <th>RRSv1</th>\n",
       "    </tr>\n",
       "  </thead>\n",
       "  <tbody>\n",
       "    <tr>\n",
       "      <th>LIG</th>\n",
       "      <td>130</td>\n",
       "    </tr>\n",
       "    <tr>\n",
       "      <th>DOC</th>\n",
       "      <td>29</td>\n",
       "    </tr>\n",
       "    <tr>\n",
       "      <th>MOD</th>\n",
       "      <td>22</td>\n",
       "    </tr>\n",
       "    <tr>\n",
       "      <th>DEG</th>\n",
       "      <td>19</td>\n",
       "    </tr>\n",
       "    <tr>\n",
       "      <th>TRG</th>\n",
       "      <td>12</td>\n",
       "    </tr>\n",
       "    <tr>\n",
       "      <th>CLV</th>\n",
       "      <td>9</td>\n",
       "    </tr>\n",
       "  </tbody>\n",
       "</table>\n",
       "</div>"
      ],
      "text/plain": [
       "     RRSv1\n",
       "LIG    130\n",
       "DOC     29\n",
       "MOD     22\n",
       "DEG     19\n",
       "TRG     12\n",
       "CLV      9"
      ]
     },
     "execution_count": 30,
     "metadata": {},
     "output_type": "execute_result"
    }
   ],
   "source": [
    "DMI_df= pd.DataFrame(df['Elm'].unique())\n",
    "DMI_df= DMI_df.rename(columns= {0: 'Elm'})\n",
    "DMI_df['Class']= DMI_df.Elm.str.slice(stop= 3)\n",
    "DMI_count= pd.DataFrame(DMI_df.Class.value_counts())\n",
    "DMI_count= DMI_count.rename(columns={'Class': 'RRSv1'})\n",
    "DMI_count"
   ]
  },
  {
   "cell_type": "code",
   "execution_count": 31,
   "metadata": {},
   "outputs": [
    {
     "data": {
      "text/html": [
       "<div>\n",
       "<style scoped>\n",
       "    .dataframe tbody tr th:only-of-type {\n",
       "        vertical-align: middle;\n",
       "    }\n",
       "\n",
       "    .dataframe tbody tr th {\n",
       "        vertical-align: top;\n",
       "    }\n",
       "\n",
       "    .dataframe thead th {\n",
       "        text-align: right;\n",
       "    }\n",
       "</style>\n",
       "<table border=\"1\" class=\"dataframe\">\n",
       "  <thead>\n",
       "    <tr style=\"text-align: right;\">\n",
       "      <th></th>\n",
       "      <th>Class</th>\n",
       "      <th>ElmDB</th>\n",
       "    </tr>\n",
       "  </thead>\n",
       "  <tbody>\n",
       "    <tr>\n",
       "      <th>0</th>\n",
       "      <td>CLV</td>\n",
       "      <td>11</td>\n",
       "    </tr>\n",
       "    <tr>\n",
       "      <th>1</th>\n",
       "      <td>DEG</td>\n",
       "      <td>25</td>\n",
       "    </tr>\n",
       "    <tr>\n",
       "      <th>2</th>\n",
       "      <td>DOC</td>\n",
       "      <td>31</td>\n",
       "    </tr>\n",
       "    <tr>\n",
       "      <th>3</th>\n",
       "      <td>LIG</td>\n",
       "      <td>164</td>\n",
       "    </tr>\n",
       "    <tr>\n",
       "      <th>4</th>\n",
       "      <td>MOD</td>\n",
       "      <td>37</td>\n",
       "    </tr>\n",
       "    <tr>\n",
       "      <th>5</th>\n",
       "      <td>TRG</td>\n",
       "      <td>22</td>\n",
       "    </tr>\n",
       "  </tbody>\n",
       "</table>\n",
       "</div>"
      ],
      "text/plain": [
       "  Class  ElmDB\n",
       "0   CLV     11\n",
       "1   DEG     25\n",
       "2   DOC     31\n",
       "3   LIG    164\n",
       "4   MOD     37\n",
       "5   TRG     22"
      ]
     },
     "execution_count": 31,
     "metadata": {},
     "output_type": "execute_result"
    }
   ],
   "source": [
    "keys= pd.Series(list(slim_types_in_class_dict.keys()))\n",
    "values= pd.Series(list(slim_types_in_class_dict.values()))\n",
    "ELMDB= pd.concat([keys, values], axis= 1)\n",
    "ELMDB= ELMDB.rename(columns= {0:'Class', 1:'ElmDB'})\n",
    "ELMDB"
   ]
  },
  {
   "cell_type": "code",
   "execution_count": 32,
   "metadata": {
    "scrolled": true
   },
   "outputs": [
    {
     "data": {
      "text/html": [
       "<div>\n",
       "<style scoped>\n",
       "    .dataframe tbody tr th:only-of-type {\n",
       "        vertical-align: middle;\n",
       "    }\n",
       "\n",
       "    .dataframe tbody tr th {\n",
       "        vertical-align: top;\n",
       "    }\n",
       "\n",
       "    .dataframe thead th {\n",
       "        text-align: right;\n",
       "    }\n",
       "</style>\n",
       "<table border=\"1\" class=\"dataframe\">\n",
       "  <thead>\n",
       "    <tr style=\"text-align: right;\">\n",
       "      <th></th>\n",
       "      <th>Class</th>\n",
       "      <th>RRSv1</th>\n",
       "      <th>ElmDB</th>\n",
       "    </tr>\n",
       "  </thead>\n",
       "  <tbody>\n",
       "    <tr>\n",
       "      <th>0</th>\n",
       "      <td>LIG</td>\n",
       "      <td>130</td>\n",
       "      <td>164</td>\n",
       "    </tr>\n",
       "    <tr>\n",
       "      <th>1</th>\n",
       "      <td>DOC</td>\n",
       "      <td>29</td>\n",
       "      <td>31</td>\n",
       "    </tr>\n",
       "    <tr>\n",
       "      <th>2</th>\n",
       "      <td>MOD</td>\n",
       "      <td>22</td>\n",
       "      <td>37</td>\n",
       "    </tr>\n",
       "    <tr>\n",
       "      <th>3</th>\n",
       "      <td>DEG</td>\n",
       "      <td>19</td>\n",
       "      <td>25</td>\n",
       "    </tr>\n",
       "    <tr>\n",
       "      <th>4</th>\n",
       "      <td>TRG</td>\n",
       "      <td>12</td>\n",
       "      <td>22</td>\n",
       "    </tr>\n",
       "    <tr>\n",
       "      <th>5</th>\n",
       "      <td>CLV</td>\n",
       "      <td>9</td>\n",
       "      <td>11</td>\n",
       "    </tr>\n",
       "  </tbody>\n",
       "</table>\n",
       "</div>"
      ],
      "text/plain": [
       "  Class  RRSv1  ElmDB\n",
       "0   LIG    130    164\n",
       "1   DOC     29     31\n",
       "2   MOD     22     37\n",
       "3   DEG     19     25\n",
       "4   TRG     12     22\n",
       "5   CLV      9     11"
      ]
     },
     "execution_count": 32,
     "metadata": {},
     "output_type": "execute_result"
    }
   ],
   "source": [
    "merged= DMI_count.merge(ELMDB, how= 'left', left_on= DMI_count.index, right_on= 'Class')\n",
    "sel= ['Class', 'RRSv1', 'ElmDB']\n",
    "DMI_count= merged[sel]\n",
    "DMI_count"
   ]
  },
  {
   "cell_type": "code",
   "execution_count": 33,
   "metadata": {
    "scrolled": true
   },
   "outputs": [
    {
     "name": "stderr",
     "output_type": "stream",
     "text": [
      "<ipython-input-33-ab0e8a0ea428>:1: SettingWithCopyWarning: \n",
      "A value is trying to be set on a copy of a slice from a DataFrame.\n",
      "Try using .loc[row_indexer,col_indexer] = value instead\n",
      "\n",
      "See the caveats in the documentation: https://pandas.pydata.org/pandas-docs/stable/user_guide/indexing.html#returning-a-view-versus-a-copy\n",
      "  DMI_count['frac']= DMI_count['RRSv1']/DMI_count['ElmDB']\n"
     ]
    },
    {
     "data": {
      "text/html": [
       "<div>\n",
       "<style scoped>\n",
       "    .dataframe tbody tr th:only-of-type {\n",
       "        vertical-align: middle;\n",
       "    }\n",
       "\n",
       "    .dataframe tbody tr th {\n",
       "        vertical-align: top;\n",
       "    }\n",
       "\n",
       "    .dataframe thead th {\n",
       "        text-align: right;\n",
       "    }\n",
       "</style>\n",
       "<table border=\"1\" class=\"dataframe\">\n",
       "  <thead>\n",
       "    <tr style=\"text-align: right;\">\n",
       "      <th></th>\n",
       "      <th>Class</th>\n",
       "      <th>RRSv1</th>\n",
       "      <th>ElmDB</th>\n",
       "      <th>frac</th>\n",
       "    </tr>\n",
       "  </thead>\n",
       "  <tbody>\n",
       "    <tr>\n",
       "      <th>0</th>\n",
       "      <td>LIG</td>\n",
       "      <td>130</td>\n",
       "      <td>164</td>\n",
       "      <td>0.792683</td>\n",
       "    </tr>\n",
       "    <tr>\n",
       "      <th>1</th>\n",
       "      <td>DOC</td>\n",
       "      <td>29</td>\n",
       "      <td>31</td>\n",
       "      <td>0.935484</td>\n",
       "    </tr>\n",
       "    <tr>\n",
       "      <th>2</th>\n",
       "      <td>MOD</td>\n",
       "      <td>22</td>\n",
       "      <td>37</td>\n",
       "      <td>0.594595</td>\n",
       "    </tr>\n",
       "    <tr>\n",
       "      <th>3</th>\n",
       "      <td>DEG</td>\n",
       "      <td>19</td>\n",
       "      <td>25</td>\n",
       "      <td>0.760000</td>\n",
       "    </tr>\n",
       "    <tr>\n",
       "      <th>4</th>\n",
       "      <td>TRG</td>\n",
       "      <td>12</td>\n",
       "      <td>22</td>\n",
       "      <td>0.545455</td>\n",
       "    </tr>\n",
       "    <tr>\n",
       "      <th>5</th>\n",
       "      <td>CLV</td>\n",
       "      <td>9</td>\n",
       "      <td>11</td>\n",
       "      <td>0.818182</td>\n",
       "    </tr>\n",
       "  </tbody>\n",
       "</table>\n",
       "</div>"
      ],
      "text/plain": [
       "  Class  RRSv1  ElmDB      frac\n",
       "0   LIG    130    164  0.792683\n",
       "1   DOC     29     31  0.935484\n",
       "2   MOD     22     37  0.594595\n",
       "3   DEG     19     25  0.760000\n",
       "4   TRG     12     22  0.545455\n",
       "5   CLV      9     11  0.818182"
      ]
     },
     "execution_count": 33,
     "metadata": {},
     "output_type": "execute_result"
    }
   ],
   "source": [
    "DMI_count['frac']= DMI_count['RRSv1']/DMI_count['ElmDB']\n",
    "DMI_count"
   ]
  },
  {
   "cell_type": "code",
   "execution_count": 34,
   "metadata": {},
   "outputs": [
    {
     "data": {
      "image/png": "[encoded data removed]",
      "text/plain": [
       "<Figure size 432x360 with 1 Axes>"
      ]
     },
     "metadata": {
      "needs_background": "light"
     },
     "output_type": "display_data"
    }
   ],
   "source": [
    "plt.figure(figsize= (6,5))\n",
    "plt.bar(DMI_count.Class, DMI_count.RRSv1)\n",
    "plt.title('Number of DMI type found in RRSv1 in each SLiM class')\n",
    "plt.ylabel('Number of unique DMI type in RRSv1')\n",
    "plt.show()"
   ]
  },
  {
   "cell_type": "code",
   "execution_count": 35,
   "metadata": {},
   "outputs": [
    {
     "data": {
      "image/png": "[encoded data removed]",
      "text/plain": [
       "<Figure size 432x360 with 1 Axes>"
      ]
     },
     "metadata": {
      "needs_background": "light"
     },
     "output_type": "display_data"
    }
   ],
   "source": [
    "plt.figure(figsize= (6,5))\n",
    "plt.bar(DMI_count.Class, DMI_count.frac)\n",
    "plt.title('Fraction of DMI type represented in RRSv1 by class')\n",
    "plt.ylabel('Fraction of SLiM type with >1 DMI match')\n",
    "plt.show()"
   ]
  },
  {
   "cell_type": "code",
   "execution_count": 36,
   "metadata": {},
   "outputs": [
    {
     "data": {
      "text/html": [
       "<div>\n",
       "<style scoped>\n",
       "    .dataframe tbody tr th:only-of-type {\n",
       "        vertical-align: middle;\n",
       "    }\n",
       "\n",
       "    .dataframe tbody tr th {\n",
       "        vertical-align: top;\n",
       "    }\n",
       "\n",
       "    .dataframe thead th {\n",
       "        text-align: right;\n",
       "    }\n",
       "</style>\n",
       "<table border=\"1\" class=\"dataframe\">\n",
       "  <thead>\n",
       "    <tr style=\"text-align: right;\">\n",
       "      <th></th>\n",
       "      <th>Elm</th>\n",
       "      <th>interactorElm</th>\n",
       "      <th>ElmMatch</th>\n",
       "      <th>IUPredLong</th>\n",
       "      <th>IUPredShort</th>\n",
       "      <th>Anchor</th>\n",
       "      <th>interactorDomain</th>\n",
       "      <th>Domain_ID1</th>\n",
       "      <th>DomainMatch1</th>\n",
       "      <th>Evalue1</th>\n",
       "      <th>Domain_ID2</th>\n",
       "      <th>DomainMatch2</th>\n",
       "      <th>Evalue2</th>\n",
       "    </tr>\n",
       "    <tr>\n",
       "      <th></th>\n",
       "      <th></th>\n",
       "      <th></th>\n",
       "      <th></th>\n",
       "      <th></th>\n",
       "      <th></th>\n",
       "      <th></th>\n",
       "      <th></th>\n",
       "      <th></th>\n",
       "      <th></th>\n",
       "      <th></th>\n",
       "      <th></th>\n",
       "      <th></th>\n",
       "      <th></th>\n",
       "    </tr>\n",
       "  </thead>\n",
       "  <tbody>\n",
       "    <tr>\n",
       "      <th>1</th>\n",
       "      <td>CLV_C14_Caspase3-7</td>\n",
       "      <td>Q91757</td>\n",
       "      <td>396-400</td>\n",
       "      <td>0.850455</td>\n",
       "      <td>0.66760</td>\n",
       "      <td>0.136356</td>\n",
       "      <td>Q14790</td>\n",
       "      <td>SM00115</td>\n",
       "      <td>225-478</td>\n",
       "      <td>3.9e-129</td>\n",
       "      <td>NaN</td>\n",
       "      <td>NaN</td>\n",
       "      <td>NaN</td>\n",
       "    </tr>\n",
       "    <tr>\n",
       "      <th>2</th>\n",
       "      <td>CLV_C14_Caspase3-7</td>\n",
       "      <td>P36956</td>\n",
       "      <td>832-836</td>\n",
       "      <td>0.256111</td>\n",
       "      <td>0.38512</td>\n",
       "      <td>0.353938</td>\n",
       "      <td>P55212</td>\n",
       "      <td>SM00115</td>\n",
       "      <td>36-290</td>\n",
       "      <td>0.0</td>\n",
       "      <td>NaN</td>\n",
       "      <td>NaN</td>\n",
       "      <td>NaN</td>\n",
       "    </tr>\n",
       "    <tr>\n",
       "      <th>3</th>\n",
       "      <td>CLV_C14_Caspase3-7</td>\n",
       "      <td>O14686</td>\n",
       "      <td>2137-2141</td>\n",
       "      <td>0.787482</td>\n",
       "      <td>0.60044</td>\n",
       "      <td>0.896515</td>\n",
       "      <td>P42574</td>\n",
       "      <td>SM00115</td>\n",
       "      <td>36-277</td>\n",
       "      <td>0.0</td>\n",
       "      <td>NaN</td>\n",
       "      <td>NaN</td>\n",
       "      <td>NaN</td>\n",
       "    </tr>\n",
       "    <tr>\n",
       "      <th>4</th>\n",
       "      <td>CLV_C14_Caspase3-7</td>\n",
       "      <td>Q62799</td>\n",
       "      <td>1314-1318</td>\n",
       "      <td>0.441369</td>\n",
       "      <td>0.31768</td>\n",
       "      <td>0.442594</td>\n",
       "      <td>Q14790</td>\n",
       "      <td>SM00115</td>\n",
       "      <td>225-478</td>\n",
       "      <td>3.9e-129</td>\n",
       "      <td>NaN</td>\n",
       "      <td>NaN</td>\n",
       "      <td>NaN</td>\n",
       "    </tr>\n",
       "    <tr>\n",
       "      <th>5</th>\n",
       "      <td>CLV_C14_Caspase3-7</td>\n",
       "      <td>Q9UQF2</td>\n",
       "      <td>405-409</td>\n",
       "      <td>0.401703</td>\n",
       "      <td>0.32258</td>\n",
       "      <td>0.411480</td>\n",
       "      <td>Q14790</td>\n",
       "      <td>SM00115</td>\n",
       "      <td>225-478</td>\n",
       "      <td>3.9e-129</td>\n",
       "      <td>NaN</td>\n",
       "      <td>NaN</td>\n",
       "      <td>NaN</td>\n",
       "    </tr>\n",
       "  </tbody>\n",
       "</table>\n",
       "</div>"
      ],
      "text/plain": [
       "                  Elm interactorElm   ElmMatch  IUPredLong  IUPredShort  \\\n",
       "                                                                          \n",
       "1  CLV_C14_Caspase3-7        Q91757    396-400    0.850455      0.66760   \n",
       "2  CLV_C14_Caspase3-7        P36956    832-836    0.256111      0.38512   \n",
       "3  CLV_C14_Caspase3-7        O14686  2137-2141    0.787482      0.60044   \n",
       "4  CLV_C14_Caspase3-7        Q62799  1314-1318    0.441369      0.31768   \n",
       "5  CLV_C14_Caspase3-7        Q9UQF2    405-409    0.401703      0.32258   \n",
       "\n",
       "     Anchor interactorDomain Domain_ID1 DomainMatch1   Evalue1 Domain_ID2  \\\n",
       "                                                                            \n",
       "1  0.136356           Q14790    SM00115      225-478  3.9e-129        NaN   \n",
       "2  0.353938           P55212    SM00115       36-290       0.0        NaN   \n",
       "3  0.896515           P42574    SM00115       36-277       0.0        NaN   \n",
       "4  0.442594           Q14790    SM00115      225-478  3.9e-129        NaN   \n",
       "5  0.411480           Q14790    SM00115      225-478  3.9e-129        NaN   \n",
       "\n",
       "  DomainMatch2  Evalue2  \n",
       "                         \n",
       "1          NaN      NaN  \n",
       "2          NaN      NaN  \n",
       "3          NaN      NaN  \n",
       "4          NaN      NaN  \n",
       "5          NaN      NaN  "
      ]
     },
     "execution_count": 36,
     "metadata": {},
     "output_type": "execute_result"
    }
   ],
   "source": [
    "df.head()"
   ]
  },
  {
   "cell_type": "code",
   "execution_count": 37,
   "metadata": {},
   "outputs": [
    {
     "data": {
      "text/plain": [
       "9024"
      ]
     },
     "execution_count": 37,
     "metadata": {},
     "output_type": "execute_result"
    }
   ],
   "source": [
    "evalues= []\n",
    "for i, r in df.iterrows():\n",
    "    ev= ''\n",
    "    ev2= ''\n",
    "    if type(r['Evalue1']) == str:\n",
    "        ev= r['Evalue1'].split('|')\n",
    "        for e in ev:\n",
    "            evalues.append(float(e))\n",
    "    else:\n",
    "        evalues.append(float(r['Evalue1']))\n",
    "    if pd.isna(r['Evalue2']) == False:\n",
    "        if type(r['Evalue2']) == str:\n",
    "            ev2= r['Evalue2'].split('|')\n",
    "            for e2 in ev2:\n",
    "                evalues.append(float(e2))\n",
    "        else:\n",
    "            evalues.append(float(r['Evalue2']))\n",
    "len(evalues)"
   ]
  },
  {
   "cell_type": "code",
   "execution_count": 38,
   "metadata": {},
   "outputs": [
    {
     "data": {
      "text/plain": [
       "3.3e-129"
      ]
     },
     "execution_count": 38,
     "metadata": {},
     "output_type": "execute_result"
    }
   ],
   "source": [
    "min([e for e in evalues if e>0])"
   ]
  },
  {
   "cell_type": "code",
   "execution_count": 39,
   "metadata": {},
   "outputs": [
    {
     "data": {
      "text/plain": [
       "array([3.30000000e-129, 1.62647079e-126, 8.01638553e-124, 3.95103542e-121,\n",
       "       1.94734657e-118, 9.59788581e-116, 4.73050936e-113, 2.33152584e-110,\n",
       "       1.14913899e-107, 5.66376062e-105, 2.79149733e-102, 1.37584511e-099,\n",
       "       6.78112691e-097, 3.34221359e-094, 1.64727659e-091, 8.11893110e-089,\n",
       "       4.00157705e-086, 1.97225702e-083, 9.72066192e-081, 4.79102201e-078,\n",
       "       2.36135071e-075, 1.16383877e-072, 5.73621142e-070, 2.82720615e-067,\n",
       "       1.39344491e-064, 6.86787106e-062, 3.38496717e-059, 1.66834855e-056,\n",
       "       8.22278843e-054, 4.05276520e-051, 1.99748613e-048, 9.84500858e-046,\n",
       "       4.85230875e-043, 2.39155710e-040, 1.17872659e-037, 5.80958901e-035,\n",
       "       2.86337176e-032, 1.41126986e-029, 6.95572483e-027, 3.42826765e-024,\n",
       "       1.68969006e-021, 8.32797430e-019, 4.10460816e-016, 2.02303796e-013,\n",
       "       9.97094589e-011, 4.91437946e-008, 2.42214989e-005, 1.19380486e-002,\n",
       "       5.88390524e+000, 2.90000000e+003])"
      ]
     },
     "execution_count": 39,
     "metadata": {},
     "output_type": "execute_result"
    }
   ],
   "source": [
    "import numpy as np\n",
    "b= np.logspace(np.log10(min([e for e in evalues if e != 0])), np.log10(max(evalues)), 50)\n",
    "b"
   ]
  },
  {
   "cell_type": "code",
   "execution_count": 40,
   "metadata": {},
   "outputs": [
    {
     "data": {
      "image/png": "[encoded data removed]",
      "text/plain": [
       "<Figure size 432x432 with 1 Axes>"
      ]
     },
     "metadata": {
      "needs_background": "light"
     },
     "output_type": "display_data"
    }
   ],
   "source": [
    "plt.figure(figsize= (6,6))\n",
    "plt.hist([e for e in evalues if e != 0], bins= b)\n",
    "plt.title('Distribution of evalues among the domain matches in RRSv1')\n",
    "plt.ylabel('Number of domain')\n",
    "plt.xlabel('Evalue')\n",
    "plt.xscale('log')\n",
    "\n",
    "plt.show()"
   ]
  },
  {
   "cell_type": "code",
   "execution_count": 41,
   "metadata": {
    "scrolled": true
   },
   "outputs": [
    {
     "data": {
      "image/png": "[encoded data removed]",
      "text/plain": [
       "<Figure size 720x360 with 1 Axes>"
      ]
     },
     "metadata": {
      "needs_background": "light"
     },
     "output_type": "display_data"
    }
   ],
   "source": [
    "b= np.linspace(0, 1, 100)\n",
    "\n",
    "plt.figure(figsize= (10,5))\n",
    "plt.hist(df.IUPredLong, bins= b)\n",
    "plt.title('Distribution of SLiM match disorderedness score (IUPred Long) in RRSv1')\n",
    "plt.ylabel('Number of SLiM match')\n",
    "\n",
    "plt.show()"
   ]
  },
  {
   "cell_type": "markdown",
   "metadata": {},
   "source": [
    "Distribution of IUPred Long score is skewed to the left, meaning that most of the matches are found in ordered region of a protein."
   ]
  },
  {
   "cell_type": "code",
   "execution_count": 42,
   "metadata": {},
   "outputs": [
    {
     "data": {
      "image/png": "[encoded data removed]",
      "text/plain": [
       "<Figure size 720x360 with 1 Axes>"
      ]
     },
     "metadata": {
      "needs_background": "light"
     },
     "output_type": "display_data"
    }
   ],
   "source": [
    "b= np.linspace(0, 1, 100)\n",
    "\n",
    "plt.figure(figsize= (10, 5))\n",
    "plt.hist(df.IUPredShort, bins= b)\n",
    "plt.title('Distribution of SLiM match disorderedness score (IUPred Short) in RRSv1')\n",
    "plt.ylabel('Number of SLiM match')\n",
    "\n",
    "plt.show()"
   ]
  },
  {
   "cell_type": "markdown",
   "metadata": {},
   "source": [
    "Distribution of IUPred Short score is also skewed to the left, meaning that most of the matches are found in ordered regions of a protein"
   ]
  },
  {
   "cell_type": "code",
   "execution_count": 43,
   "metadata": {},
   "outputs": [
    {
     "data": {
      "image/png": "[encoded data removed]",
      "text/plain": [
       "<Figure size 720x360 with 1 Axes>"
      ]
     },
     "metadata": {
      "needs_background": "light"
     },
     "output_type": "display_data"
    }
   ],
   "source": [
    "b= np.linspace(0, 1, 100)\n",
    "\n",
    "plt.figure(figsize= (10,5))\n",
    "plt.hist(df.Anchor, bins= b)\n",
    "plt.title('Distribution of SLiM match ANCHOR2 score in RRSv1')\n",
    "plt.ylabel('Number of SLiM match')\n",
    "\n",
    "plt.show()"
   ]
  },
  {
   "cell_type": "markdown",
   "metadata": {},
   "source": [
    "ANCHOR2 predicts disordered binding regions. The higher the score, the more likely that it is a disordered binding regions. The distribution of ANCHOR2 in the RRSv1 is centered around 0.4 with a peak at 0. According to the paper of IUPred2a, regions with higher than 0.6 are predicted to be disordered binding regions."
   ]
  },
  {
   "cell_type": "code",
   "execution_count": null,
   "metadata": {},
   "outputs": [],
   "source": []
  }
 ],
 "metadata": {
  "kernelspec": {
   "display_name": "Python 3",
   "language": "python",
   "name": "python3"
  },
  "language_info": {
   "codemirror_mode": {
    "name": "ipython",
    "version": 3
   },
   "file_extension": ".py",
   "mimetype": "text/x-python",
   "name": "python",
   "nbconvert_exporter": "python",
   "pygments_lexer": "ipython3",
   "version": "3.8.1"
  }
 },
 "nbformat": 4,
 "nbformat_minor": 4
}
