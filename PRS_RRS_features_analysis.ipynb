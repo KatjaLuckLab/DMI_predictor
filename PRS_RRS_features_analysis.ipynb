{
 "cells": [
  {
   "cell_type": "code",
   "execution_count": 2,
   "metadata": {},
   "outputs": [],
   "source": [
    "import pandas as pd\n",
    "pd.set_option('display.max_columns', None)\n",
    "import matplotlib.pyplot as plt\n",
    "import numpy as np"
   ]
  },
  {
   "cell_type": "code",
   "execution_count": 3,
   "metadata": {},
   "outputs": [],
   "source": [
    "PRS= pd.read_csv('/Users/johnlee/Coding/Python/DMI/PRS/ND_ELM_PRS_merged_v2_20210208_with_features.tsv', sep= '\\t', index_col=0)\n",
    "RRSv1= pd.read_csv('/Users/johnlee/Coding/Python/DMI/RRS/RRSv1_20210202.tsv', sep= '\\t', index_col= 0)"
   ]
  },
  {
   "cell_type": "code",
   "execution_count": 4,
   "metadata": {},
   "outputs": [
    {
     "data": {
      "text/html": [
       "<div>\n",
       "<style scoped>\n",
       "    .dataframe tbody tr th:only-of-type {\n",
       "        vertical-align: middle;\n",
       "    }\n",
       "\n",
       "    .dataframe tbody tr th {\n",
       "        vertical-align: top;\n",
       "    }\n",
       "\n",
       "    .dataframe thead th {\n",
       "        text-align: right;\n",
       "    }\n",
       "</style>\n",
       "<table border=\"1\" class=\"dataframe\">\n",
       "  <thead>\n",
       "    <tr style=\"text-align: right;\">\n",
       "      <th></th>\n",
       "      <th>Elm</th>\n",
       "      <th>interactorElm</th>\n",
       "      <th>ElmMatch</th>\n",
       "      <th>IUPredLong</th>\n",
       "      <th>IUPredShort</th>\n",
       "      <th>Anchor</th>\n",
       "      <th>interactorDomain</th>\n",
       "      <th>Domain_ID1</th>\n",
       "      <th>DomainMatch1</th>\n",
       "      <th>Evalue1</th>\n",
       "      <th>Domain_ID2</th>\n",
       "      <th>DomainMatch2</th>\n",
       "      <th>Evalue2</th>\n",
       "    </tr>\n",
       "    <tr>\n",
       "      <th></th>\n",
       "      <th></th>\n",
       "      <th></th>\n",
       "      <th></th>\n",
       "      <th></th>\n",
       "      <th></th>\n",
       "      <th></th>\n",
       "      <th></th>\n",
       "      <th></th>\n",
       "      <th></th>\n",
       "      <th></th>\n",
       "      <th></th>\n",
       "      <th></th>\n",
       "      <th></th>\n",
       "    </tr>\n",
       "  </thead>\n",
       "  <tbody>\n",
       "    <tr>\n",
       "      <th>1</th>\n",
       "      <td>CLV_C14_Caspase3-7</td>\n",
       "      <td>Q91757</td>\n",
       "      <td>396-400</td>\n",
       "      <td>0.850455</td>\n",
       "      <td>0.66760</td>\n",
       "      <td>0.136356</td>\n",
       "      <td>Q14790</td>\n",
       "      <td>SM00115</td>\n",
       "      <td>225-478</td>\n",
       "      <td>3.9e-129</td>\n",
       "      <td>NaN</td>\n",
       "      <td>NaN</td>\n",
       "      <td>NaN</td>\n",
       "    </tr>\n",
       "    <tr>\n",
       "      <th>2</th>\n",
       "      <td>CLV_C14_Caspase3-7</td>\n",
       "      <td>P36956</td>\n",
       "      <td>832-836</td>\n",
       "      <td>0.256111</td>\n",
       "      <td>0.38512</td>\n",
       "      <td>0.353938</td>\n",
       "      <td>P55212</td>\n",
       "      <td>SM00115</td>\n",
       "      <td>36-290</td>\n",
       "      <td>0.0</td>\n",
       "      <td>NaN</td>\n",
       "      <td>NaN</td>\n",
       "      <td>NaN</td>\n",
       "    </tr>\n",
       "    <tr>\n",
       "      <th>3</th>\n",
       "      <td>CLV_C14_Caspase3-7</td>\n",
       "      <td>O14686</td>\n",
       "      <td>2137-2141</td>\n",
       "      <td>0.787482</td>\n",
       "      <td>0.60044</td>\n",
       "      <td>0.896515</td>\n",
       "      <td>P42574</td>\n",
       "      <td>SM00115</td>\n",
       "      <td>36-277</td>\n",
       "      <td>0.0</td>\n",
       "      <td>NaN</td>\n",
       "      <td>NaN</td>\n",
       "      <td>NaN</td>\n",
       "    </tr>\n",
       "    <tr>\n",
       "      <th>4</th>\n",
       "      <td>CLV_C14_Caspase3-7</td>\n",
       "      <td>Q62799</td>\n",
       "      <td>1314-1318</td>\n",
       "      <td>0.441369</td>\n",
       "      <td>0.31768</td>\n",
       "      <td>0.442594</td>\n",
       "      <td>Q14790</td>\n",
       "      <td>SM00115</td>\n",
       "      <td>225-478</td>\n",
       "      <td>3.9e-129</td>\n",
       "      <td>NaN</td>\n",
       "      <td>NaN</td>\n",
       "      <td>NaN</td>\n",
       "    </tr>\n",
       "    <tr>\n",
       "      <th>5</th>\n",
       "      <td>CLV_C14_Caspase3-7</td>\n",
       "      <td>Q9UQF2</td>\n",
       "      <td>405-409</td>\n",
       "      <td>0.401703</td>\n",
       "      <td>0.32258</td>\n",
       "      <td>0.411480</td>\n",
       "      <td>Q14790</td>\n",
       "      <td>SM00115</td>\n",
       "      <td>225-478</td>\n",
       "      <td>3.9e-129</td>\n",
       "      <td>NaN</td>\n",
       "      <td>NaN</td>\n",
       "      <td>NaN</td>\n",
       "    </tr>\n",
       "  </tbody>\n",
       "</table>\n",
       "</div>"
      ],
      "text/plain": [
       "                  Elm interactorElm   ElmMatch  IUPredLong  IUPredShort  \\\n",
       "                                                                          \n",
       "1  CLV_C14_Caspase3-7        Q91757    396-400    0.850455      0.66760   \n",
       "2  CLV_C14_Caspase3-7        P36956    832-836    0.256111      0.38512   \n",
       "3  CLV_C14_Caspase3-7        O14686  2137-2141    0.787482      0.60044   \n",
       "4  CLV_C14_Caspase3-7        Q62799  1314-1318    0.441369      0.31768   \n",
       "5  CLV_C14_Caspase3-7        Q9UQF2    405-409    0.401703      0.32258   \n",
       "\n",
       "     Anchor interactorDomain Domain_ID1 DomainMatch1   Evalue1 Domain_ID2  \\\n",
       "                                                                            \n",
       "1  0.136356           Q14790    SM00115      225-478  3.9e-129        NaN   \n",
       "2  0.353938           P55212    SM00115       36-290       0.0        NaN   \n",
       "3  0.896515           P42574    SM00115       36-277       0.0        NaN   \n",
       "4  0.442594           Q14790    SM00115      225-478  3.9e-129        NaN   \n",
       "5  0.411480           Q14790    SM00115      225-478  3.9e-129        NaN   \n",
       "\n",
       "  DomainMatch2  Evalue2  \n",
       "                         \n",
       "1          NaN      NaN  \n",
       "2          NaN      NaN  \n",
       "3          NaN      NaN  \n",
       "4          NaN      NaN  \n",
       "5          NaN      NaN  "
      ]
     },
     "execution_count": 4,
     "metadata": {},
     "output_type": "execute_result"
    }
   ],
   "source": [
    "RRSv1.head()"
   ]
  },
  {
   "cell_type": "code",
   "execution_count": 5,
   "metadata": {},
   "outputs": [
    {
     "data": {
      "text/html": [
       "<div>\n",
       "<style scoped>\n",
       "    .dataframe tbody tr th:only-of-type {\n",
       "        vertical-align: middle;\n",
       "    }\n",
       "\n",
       "    .dataframe tbody tr th {\n",
       "        vertical-align: top;\n",
       "    }\n",
       "\n",
       "    .dataframe thead th {\n",
       "        text-align: right;\n",
       "    }\n",
       "</style>\n",
       "<table border=\"1\" class=\"dataframe\">\n",
       "  <thead>\n",
       "    <tr style=\"text-align: right;\">\n",
       "      <th></th>\n",
       "      <th>Elm</th>\n",
       "      <th>interactorElm</th>\n",
       "      <th>ElmMatch</th>\n",
       "      <th>IUPredLong</th>\n",
       "      <th>IUPredShort</th>\n",
       "      <th>Anchor</th>\n",
       "      <th>interactorDomain</th>\n",
       "      <th>HMMOld1</th>\n",
       "      <th>DomainMatchOld1</th>\n",
       "      <th>DomainNameNew1</th>\n",
       "      <th>HMMNew1</th>\n",
       "      <th>DomainMatchNew1</th>\n",
       "      <th>DomainMatchNew1Evalue</th>\n",
       "      <th>DomainSource1</th>\n",
       "      <th>JaccardDistance1</th>\n",
       "      <th>HMMOld2</th>\n",
       "      <th>DomainMatchOld2</th>\n",
       "      <th>DomainNameNew2</th>\n",
       "      <th>HMMNew2</th>\n",
       "      <th>DomainMatchNew2</th>\n",
       "      <th>DomainMatchNew2Evalue</th>\n",
       "      <th>DomainSource2</th>\n",
       "      <th>JaccardDistance2</th>\n",
       "      <th>DMISource</th>\n",
       "      <th>Comment</th>\n",
       "    </tr>\n",
       "  </thead>\n",
       "  <tbody>\n",
       "    <tr>\n",
       "      <th>1324</th>\n",
       "      <td>LIG_CaM_IQ_9</td>\n",
       "      <td>P38377</td>\n",
       "      <td>16-31</td>\n",
       "      <td>0.048580</td>\n",
       "      <td>0.029125</td>\n",
       "      <td>0.008671</td>\n",
       "      <td>P0DP23</td>\n",
       "      <td>PF13499</td>\n",
       "      <td>85-146</td>\n",
       "      <td>EFh</td>\n",
       "      <td>SM00054</td>\n",
       "      <td>12-40|48-76|85-113|121-149</td>\n",
       "      <td>6.39052688397453e-09|5.19072077635924e-09|3.67...</td>\n",
       "      <td>SMART</td>\n",
       "      <td>0.467742</td>\n",
       "      <td>NaN</td>\n",
       "      <td>NaN</td>\n",
       "      <td>NaN</td>\n",
       "      <td>NaN</td>\n",
       "      <td>NaN</td>\n",
       "      <td>NaN</td>\n",
       "      <td>NaN</td>\n",
       "      <td>NaN</td>\n",
       "      <td>ELM</td>\n",
       "      <td>P62161 (mouse protein) is obsolete and demerge...</td>\n",
       "    </tr>\n",
       "    <tr>\n",
       "      <th>1325</th>\n",
       "      <td>LIG_CaM_IQ_9</td>\n",
       "      <td>P40146</td>\n",
       "      <td>1194-1209</td>\n",
       "      <td>0.335542</td>\n",
       "      <td>0.281031</td>\n",
       "      <td>0.405147</td>\n",
       "      <td>P0DP23</td>\n",
       "      <td>PF13499</td>\n",
       "      <td>85-146</td>\n",
       "      <td>EFh</td>\n",
       "      <td>SM00054</td>\n",
       "      <td>12-40|48-76|85-113|121-149</td>\n",
       "      <td>6.39052688397453e-09|5.19072077635924e-09|3.67...</td>\n",
       "      <td>SMART</td>\n",
       "      <td>0.467742</td>\n",
       "      <td>NaN</td>\n",
       "      <td>NaN</td>\n",
       "      <td>NaN</td>\n",
       "      <td>NaN</td>\n",
       "      <td>NaN</td>\n",
       "      <td>NaN</td>\n",
       "      <td>NaN</td>\n",
       "      <td>NaN</td>\n",
       "      <td>ELM</td>\n",
       "      <td>P62161 (mouse protein) is obsolete and demerge...</td>\n",
       "    </tr>\n",
       "    <tr>\n",
       "      <th>1020</th>\n",
       "      <td>LIG_Rb_LxCxE_1</td>\n",
       "      <td>P0DOV2</td>\n",
       "      <td>418-434</td>\n",
       "      <td>0.618123</td>\n",
       "      <td>0.651388</td>\n",
       "      <td>0.350809</td>\n",
       "      <td>P06400</td>\n",
       "      <td>PF01857</td>\n",
       "      <td>646-765</td>\n",
       "      <td>RB_B</td>\n",
       "      <td>PF01857</td>\n",
       "      <td>646-765</td>\n",
       "      <td>8.4E-37</td>\n",
       "      <td>PFAM</td>\n",
       "      <td>1.000000</td>\n",
       "      <td>NaN</td>\n",
       "      <td>NaN</td>\n",
       "      <td>NaN</td>\n",
       "      <td>NaN</td>\n",
       "      <td>NaN</td>\n",
       "      <td>NaN</td>\n",
       "      <td>NaN</td>\n",
       "      <td>NaN</td>\n",
       "      <td>ELM</td>\n",
       "      <td>P15092 (mouse protein) is obsolete in the UniP...</td>\n",
       "    </tr>\n",
       "    <tr>\n",
       "      <th>1329</th>\n",
       "      <td>LIG_CaM_IQ_9</td>\n",
       "      <td>Q13698</td>\n",
       "      <td>1526-1542</td>\n",
       "      <td>0.129041</td>\n",
       "      <td>0.119906</td>\n",
       "      <td>0.387483</td>\n",
       "      <td>P0DP23</td>\n",
       "      <td>PF13499</td>\n",
       "      <td>85-146</td>\n",
       "      <td>EFh</td>\n",
       "      <td>SM00054</td>\n",
       "      <td>12-40|48-76|85-113|121-149</td>\n",
       "      <td>6.39052688397453e-09|5.19072077635924e-09|3.67...</td>\n",
       "      <td>SMART</td>\n",
       "      <td>0.467742</td>\n",
       "      <td>NaN</td>\n",
       "      <td>NaN</td>\n",
       "      <td>NaN</td>\n",
       "      <td>NaN</td>\n",
       "      <td>NaN</td>\n",
       "      <td>NaN</td>\n",
       "      <td>NaN</td>\n",
       "      <td>NaN</td>\n",
       "      <td>ELM</td>\n",
       "      <td>P62158 (mouse protein) is obsolete and demerge...</td>\n",
       "    </tr>\n",
       "    <tr>\n",
       "      <th>1330</th>\n",
       "      <td>LIG_CaM_IQ_9</td>\n",
       "      <td>Q13936</td>\n",
       "      <td>1669-1685</td>\n",
       "      <td>0.161525</td>\n",
       "      <td>0.176053</td>\n",
       "      <td>0.380697</td>\n",
       "      <td>P0DP23</td>\n",
       "      <td>PF13499</td>\n",
       "      <td>85-146</td>\n",
       "      <td>EFh</td>\n",
       "      <td>SM00054</td>\n",
       "      <td>12-40|48-76|85-113|121-149</td>\n",
       "      <td>6.39052688397453e-09|5.19072077635924e-09|3.67...</td>\n",
       "      <td>SMART</td>\n",
       "      <td>0.467742</td>\n",
       "      <td>NaN</td>\n",
       "      <td>NaN</td>\n",
       "      <td>NaN</td>\n",
       "      <td>NaN</td>\n",
       "      <td>NaN</td>\n",
       "      <td>NaN</td>\n",
       "      <td>NaN</td>\n",
       "      <td>NaN</td>\n",
       "      <td>ELM</td>\n",
       "      <td>P62158 (mouse protein) is obsolete and demerge...</td>\n",
       "    </tr>\n",
       "  </tbody>\n",
       "</table>\n",
       "</div>"
      ],
      "text/plain": [
       "                 Elm interactorElm   ElmMatch  IUPredLong  IUPredShort  \\\n",
       "1324    LIG_CaM_IQ_9        P38377      16-31    0.048580     0.029125   \n",
       "1325    LIG_CaM_IQ_9        P40146  1194-1209    0.335542     0.281031   \n",
       "1020  LIG_Rb_LxCxE_1        P0DOV2    418-434    0.618123     0.651388   \n",
       "1329    LIG_CaM_IQ_9        Q13698  1526-1542    0.129041     0.119906   \n",
       "1330    LIG_CaM_IQ_9        Q13936  1669-1685    0.161525     0.176053   \n",
       "\n",
       "        Anchor interactorDomain  HMMOld1 DomainMatchOld1 DomainNameNew1  \\\n",
       "1324  0.008671           P0DP23  PF13499          85-146            EFh   \n",
       "1325  0.405147           P0DP23  PF13499          85-146            EFh   \n",
       "1020  0.350809           P06400  PF01857         646-765           RB_B   \n",
       "1329  0.387483           P0DP23  PF13499          85-146            EFh   \n",
       "1330  0.380697           P0DP23  PF13499          85-146            EFh   \n",
       "\n",
       "      HMMNew1             DomainMatchNew1  \\\n",
       "1324  SM00054  12-40|48-76|85-113|121-149   \n",
       "1325  SM00054  12-40|48-76|85-113|121-149   \n",
       "1020  PF01857                     646-765   \n",
       "1329  SM00054  12-40|48-76|85-113|121-149   \n",
       "1330  SM00054  12-40|48-76|85-113|121-149   \n",
       "\n",
       "                                  DomainMatchNew1Evalue DomainSource1  \\\n",
       "1324  6.39052688397453e-09|5.19072077635924e-09|3.67...         SMART   \n",
       "1325  6.39052688397453e-09|5.19072077635924e-09|3.67...         SMART   \n",
       "1020                                            8.4E-37          PFAM   \n",
       "1329  6.39052688397453e-09|5.19072077635924e-09|3.67...         SMART   \n",
       "1330  6.39052688397453e-09|5.19072077635924e-09|3.67...         SMART   \n",
       "\n",
       "      JaccardDistance1 HMMOld2 DomainMatchOld2 DomainNameNew2 HMMNew2  \\\n",
       "1324          0.467742     NaN             NaN            NaN     NaN   \n",
       "1325          0.467742     NaN             NaN            NaN     NaN   \n",
       "1020          1.000000     NaN             NaN            NaN     NaN   \n",
       "1329          0.467742     NaN             NaN            NaN     NaN   \n",
       "1330          0.467742     NaN             NaN            NaN     NaN   \n",
       "\n",
       "     DomainMatchNew2  DomainMatchNew2Evalue DomainSource2  JaccardDistance2  \\\n",
       "1324             NaN                    NaN           NaN               NaN   \n",
       "1325             NaN                    NaN           NaN               NaN   \n",
       "1020             NaN                    NaN           NaN               NaN   \n",
       "1329             NaN                    NaN           NaN               NaN   \n",
       "1330             NaN                    NaN           NaN               NaN   \n",
       "\n",
       "     DMISource                                            Comment  \n",
       "1324       ELM  P62161 (mouse protein) is obsolete and demerge...  \n",
       "1325       ELM  P62161 (mouse protein) is obsolete and demerge...  \n",
       "1020       ELM  P15092 (mouse protein) is obsolete in the UniP...  \n",
       "1329       ELM  P62158 (mouse protein) is obsolete and demerge...  \n",
       "1330       ELM  P62158 (mouse protein) is obsolete and demerge...  "
      ]
     },
     "execution_count": 5,
     "metadata": {},
     "output_type": "execute_result"
    }
   ],
   "source": [
    "PRS.head()"
   ]
  },
  {
   "cell_type": "markdown",
   "metadata": {},
   "source": [
    "DMI types that are in PRS but not in RRSv1: DOC_CKS1_1, LIG_Dynein_DLC8_1, LIG_GYF, LIG_RPA_C_Vert, LIG_deltaCOP1_diTrp_1, LIG_CID_NIM_1, TRG_Pf-PMV_PEXEL_1 (7 DMI types)\n",
    "\n",
    "DMI types that are in RRSv1 but not in PRS: 87 DMI types\n",
    "\n",
    "No. of proteins in PRS but not in RRSv1: 116\n",
    "\n",
    "No. of proteins in RRSv1 but not in PRS: 25\n",
    "\n",
    "Note: Keep in mind that isoforms are not included in RRSv1. "
   ]
  },
  {
   "cell_type": "code",
   "execution_count": 6,
   "metadata": {},
   "outputs": [],
   "source": [
    "PRS_Elm_set= set(PRS.Elm.to_list())\n",
    "RRSv1_Elm_set= set(RRSv1.Elm.to_list())"
   ]
  },
  {
   "cell_type": "code",
   "execution_count": 7,
   "metadata": {},
   "outputs": [],
   "source": [
    "PRS_proteins= set(PRS.interactorElm.to_list() + PRS.interactorDomain.to_list())\n",
    "RRSv1_proteins= set(RRSv1.interactorElm.to_list() + RRSv1.interactorDomain.to_list())"
   ]
  },
  {
   "cell_type": "code",
   "execution_count": 8,
   "metadata": {},
   "outputs": [
    {
     "data": {
      "text/plain": [
       "116"
      ]
     },
     "execution_count": 8,
     "metadata": {},
     "output_type": "execute_result"
    }
   ],
   "source": [
    "len(PRS_proteins.difference(RRSv1_proteins))"
   ]
  },
  {
   "cell_type": "code",
   "execution_count": 9,
   "metadata": {},
   "outputs": [
    {
     "data": {
      "text/plain": [
       "25"
      ]
     },
     "execution_count": 9,
     "metadata": {},
     "output_type": "execute_result"
    }
   ],
   "source": [
    "len(RRSv1_proteins.difference(PRS_proteins))"
   ]
  },
  {
   "cell_type": "code",
   "execution_count": 10,
   "metadata": {},
   "outputs": [
    {
     "data": {
      "text/plain": [
       "1113"
      ]
     },
     "execution_count": 10,
     "metadata": {},
     "output_type": "execute_result"
    }
   ],
   "source": [
    "len(RRSv1_proteins.intersection(PRS_proteins))"
   ]
  },
  {
   "cell_type": "code",
   "execution_count": 11,
   "metadata": {},
   "outputs": [
    {
     "data": {
      "text/html": [
       "<div>\n",
       "<style scoped>\n",
       "    .dataframe tbody tr th:only-of-type {\n",
       "        vertical-align: middle;\n",
       "    }\n",
       "\n",
       "    .dataframe tbody tr th {\n",
       "        vertical-align: top;\n",
       "    }\n",
       "\n",
       "    .dataframe thead th {\n",
       "        text-align: right;\n",
       "    }\n",
       "</style>\n",
       "<table border=\"1\" class=\"dataframe\">\n",
       "  <thead>\n",
       "    <tr style=\"text-align: right;\">\n",
       "      <th></th>\n",
       "      <th>Class</th>\n",
       "      <th>ElmDB</th>\n",
       "    </tr>\n",
       "  </thead>\n",
       "  <tbody>\n",
       "    <tr>\n",
       "      <th>0</th>\n",
       "      <td>CLV</td>\n",
       "      <td>11</td>\n",
       "    </tr>\n",
       "    <tr>\n",
       "      <th>1</th>\n",
       "      <td>DEG</td>\n",
       "      <td>25</td>\n",
       "    </tr>\n",
       "    <tr>\n",
       "      <th>2</th>\n",
       "      <td>DOC</td>\n",
       "      <td>31</td>\n",
       "    </tr>\n",
       "    <tr>\n",
       "      <th>3</th>\n",
       "      <td>LIG</td>\n",
       "      <td>164</td>\n",
       "    </tr>\n",
       "    <tr>\n",
       "      <th>4</th>\n",
       "      <td>MOD</td>\n",
       "      <td>37</td>\n",
       "    </tr>\n",
       "    <tr>\n",
       "      <th>5</th>\n",
       "      <td>TRG</td>\n",
       "      <td>22</td>\n",
       "    </tr>\n",
       "  </tbody>\n",
       "</table>\n",
       "</div>"
      ],
      "text/plain": [
       "  Class  ElmDB\n",
       "0   CLV     11\n",
       "1   DEG     25\n",
       "2   DOC     31\n",
       "3   LIG    164\n",
       "4   MOD     37\n",
       "5   TRG     22"
      ]
     },
     "execution_count": 11,
     "metadata": {},
     "output_type": "execute_result"
    }
   ],
   "source": [
    "DMI_count_df= pd.DataFrame(data={'Class': ['CLV', 'DEG', 'DOC', 'LIG', 'MOD', 'TRG'], 'ElmDB': [11, 25, 31, 164, 37, 22]})\n",
    "DMI_count_df"
   ]
  },
  {
   "cell_type": "code",
   "execution_count": 12,
   "metadata": {},
   "outputs": [
    {
     "data": {
      "text/plain": [
       "LIG    93\n",
       "DOC    26\n",
       "MOD    11\n",
       "CLV     4\n",
       "DEG     4\n",
       "TRG     3\n",
       "Name: Class, dtype: int64"
      ]
     },
     "execution_count": 12,
     "metadata": {},
     "output_type": "execute_result"
    }
   ],
   "source": [
    "PRS_DMI_count_df= pd.DataFrame(PRS.Elm.unique())\n",
    "PRS_DMI_count_df= PRS_DMI_count_df.rename(columns= {0: 'Elm'})\n",
    "PRS_DMI_count_df['Class']= PRS_DMI_count_df.Elm.str.slice(stop=3)\n",
    "PRS_DMI_count_df.Class.value_counts()"
   ]
  },
  {
   "cell_type": "code",
   "execution_count": 13,
   "metadata": {},
   "outputs": [],
   "source": [
    "DMI_count_df= DMI_count_df.merge(PRS_DMI_count_df.Class.value_counts(), left_on= DMI_count_df.Class,\n",
    "                                 right_on= PRS_DMI_count_df.Class.value_counts().index)"
   ]
  },
  {
   "cell_type": "code",
   "execution_count": 14,
   "metadata": {},
   "outputs": [
    {
     "data": {
      "text/html": [
       "<div>\n",
       "<style scoped>\n",
       "    .dataframe tbody tr th:only-of-type {\n",
       "        vertical-align: middle;\n",
       "    }\n",
       "\n",
       "    .dataframe tbody tr th {\n",
       "        vertical-align: top;\n",
       "    }\n",
       "\n",
       "    .dataframe thead th {\n",
       "        text-align: right;\n",
       "    }\n",
       "</style>\n",
       "<table border=\"1\" class=\"dataframe\">\n",
       "  <thead>\n",
       "    <tr style=\"text-align: right;\">\n",
       "      <th></th>\n",
       "      <th>key_0</th>\n",
       "      <th>Class_x</th>\n",
       "      <th>ElmDB</th>\n",
       "      <th>Class_y</th>\n",
       "    </tr>\n",
       "  </thead>\n",
       "  <tbody>\n",
       "    <tr>\n",
       "      <th>0</th>\n",
       "      <td>CLV</td>\n",
       "      <td>CLV</td>\n",
       "      <td>11</td>\n",
       "      <td>4</td>\n",
       "    </tr>\n",
       "    <tr>\n",
       "      <th>1</th>\n",
       "      <td>DEG</td>\n",
       "      <td>DEG</td>\n",
       "      <td>25</td>\n",
       "      <td>4</td>\n",
       "    </tr>\n",
       "    <tr>\n",
       "      <th>2</th>\n",
       "      <td>DOC</td>\n",
       "      <td>DOC</td>\n",
       "      <td>31</td>\n",
       "      <td>26</td>\n",
       "    </tr>\n",
       "    <tr>\n",
       "      <th>3</th>\n",
       "      <td>LIG</td>\n",
       "      <td>LIG</td>\n",
       "      <td>164</td>\n",
       "      <td>93</td>\n",
       "    </tr>\n",
       "    <tr>\n",
       "      <th>4</th>\n",
       "      <td>MOD</td>\n",
       "      <td>MOD</td>\n",
       "      <td>37</td>\n",
       "      <td>11</td>\n",
       "    </tr>\n",
       "    <tr>\n",
       "      <th>5</th>\n",
       "      <td>TRG</td>\n",
       "      <td>TRG</td>\n",
       "      <td>22</td>\n",
       "      <td>3</td>\n",
       "    </tr>\n",
       "  </tbody>\n",
       "</table>\n",
       "</div>"
      ],
      "text/plain": [
       "  key_0 Class_x  ElmDB  Class_y\n",
       "0   CLV     CLV     11        4\n",
       "1   DEG     DEG     25        4\n",
       "2   DOC     DOC     31       26\n",
       "3   LIG     LIG    164       93\n",
       "4   MOD     MOD     37       11\n",
       "5   TRG     TRG     22        3"
      ]
     },
     "execution_count": 14,
     "metadata": {},
     "output_type": "execute_result"
    }
   ],
   "source": [
    "DMI_count_df"
   ]
  },
  {
   "cell_type": "code",
   "execution_count": 15,
   "metadata": {},
   "outputs": [],
   "source": [
    "DMI_count_df= DMI_count_df[['Class_x', 'ElmDB', 'Class_y']]"
   ]
  },
  {
   "cell_type": "code",
   "execution_count": 16,
   "metadata": {},
   "outputs": [
    {
     "data": {
      "text/plain": [
       "LIG    130\n",
       "DOC     29\n",
       "MOD     22\n",
       "DEG     19\n",
       "TRG     12\n",
       "CLV      9\n",
       "Name: Class, dtype: int64"
      ]
     },
     "execution_count": 16,
     "metadata": {},
     "output_type": "execute_result"
    }
   ],
   "source": [
    "RRSv1_DMI_count_df= pd.DataFrame(RRSv1.Elm.unique())\n",
    "RRSv1_DMI_count_df= RRSv1_DMI_count_df.rename(columns= {0: 'Elm'})\n",
    "RRSv1_DMI_count_df['Class']= RRSv1_DMI_count_df.Elm.str.slice(stop=3)\n",
    "RRSv1_DMI_count_df.Class.value_counts()"
   ]
  },
  {
   "cell_type": "code",
   "execution_count": 17,
   "metadata": {},
   "outputs": [],
   "source": [
    "DMI_count_df= DMI_count_df.merge(RRSv1_DMI_count_df.Class.value_counts(), left_on= DMI_count_df.Class_x,\n",
    "                                 right_on= RRSv1_DMI_count_df.Class.value_counts().index)"
   ]
  },
  {
   "cell_type": "code",
   "execution_count": 18,
   "metadata": {},
   "outputs": [
    {
     "data": {
      "text/html": [
       "<div>\n",
       "<style scoped>\n",
       "    .dataframe tbody tr th:only-of-type {\n",
       "        vertical-align: middle;\n",
       "    }\n",
       "\n",
       "    .dataframe tbody tr th {\n",
       "        vertical-align: top;\n",
       "    }\n",
       "\n",
       "    .dataframe thead th {\n",
       "        text-align: right;\n",
       "    }\n",
       "</style>\n",
       "<table border=\"1\" class=\"dataframe\">\n",
       "  <thead>\n",
       "    <tr style=\"text-align: right;\">\n",
       "      <th></th>\n",
       "      <th>key_0</th>\n",
       "      <th>Class</th>\n",
       "      <th>ElmDB</th>\n",
       "      <th>PRS</th>\n",
       "      <th>RRSv1</th>\n",
       "    </tr>\n",
       "  </thead>\n",
       "  <tbody>\n",
       "    <tr>\n",
       "      <th>0</th>\n",
       "      <td>CLV</td>\n",
       "      <td>CLV</td>\n",
       "      <td>11</td>\n",
       "      <td>4</td>\n",
       "      <td>9</td>\n",
       "    </tr>\n",
       "    <tr>\n",
       "      <th>1</th>\n",
       "      <td>DEG</td>\n",
       "      <td>DEG</td>\n",
       "      <td>25</td>\n",
       "      <td>4</td>\n",
       "      <td>19</td>\n",
       "    </tr>\n",
       "    <tr>\n",
       "      <th>2</th>\n",
       "      <td>DOC</td>\n",
       "      <td>DOC</td>\n",
       "      <td>31</td>\n",
       "      <td>26</td>\n",
       "      <td>29</td>\n",
       "    </tr>\n",
       "    <tr>\n",
       "      <th>3</th>\n",
       "      <td>LIG</td>\n",
       "      <td>LIG</td>\n",
       "      <td>164</td>\n",
       "      <td>93</td>\n",
       "      <td>130</td>\n",
       "    </tr>\n",
       "    <tr>\n",
       "      <th>4</th>\n",
       "      <td>MOD</td>\n",
       "      <td>MOD</td>\n",
       "      <td>37</td>\n",
       "      <td>11</td>\n",
       "      <td>22</td>\n",
       "    </tr>\n",
       "    <tr>\n",
       "      <th>5</th>\n",
       "      <td>TRG</td>\n",
       "      <td>TRG</td>\n",
       "      <td>22</td>\n",
       "      <td>3</td>\n",
       "      <td>12</td>\n",
       "    </tr>\n",
       "  </tbody>\n",
       "</table>\n",
       "</div>"
      ],
      "text/plain": [
       "  key_0 Class  ElmDB  PRS  RRSv1\n",
       "0   CLV   CLV     11    4      9\n",
       "1   DEG   DEG     25    4     19\n",
       "2   DOC   DOC     31   26     29\n",
       "3   LIG   LIG    164   93    130\n",
       "4   MOD   MOD     37   11     22\n",
       "5   TRG   TRG     22    3     12"
      ]
     },
     "execution_count": 18,
     "metadata": {},
     "output_type": "execute_result"
    }
   ],
   "source": [
    "DMI_count_df= DMI_count_df.rename(columns= {'Class_x': 'Class', 'Class_y': 'PRS', 'Class':'RRSv1'})\n",
    "DMI_count_df"
   ]
  },
  {
   "cell_type": "code",
   "execution_count": 19,
   "metadata": {},
   "outputs": [],
   "source": [
    "DMI_count_df= DMI_count_df.drop(columns= 'key_0')"
   ]
  },
  {
   "cell_type": "code",
   "execution_count": 20,
   "metadata": {},
   "outputs": [
    {
     "data": {
      "text/html": [
       "<div>\n",
       "<style scoped>\n",
       "    .dataframe tbody tr th:only-of-type {\n",
       "        vertical-align: middle;\n",
       "    }\n",
       "\n",
       "    .dataframe tbody tr th {\n",
       "        vertical-align: top;\n",
       "    }\n",
       "\n",
       "    .dataframe thead th {\n",
       "        text-align: right;\n",
       "    }\n",
       "</style>\n",
       "<table border=\"1\" class=\"dataframe\">\n",
       "  <thead>\n",
       "    <tr style=\"text-align: right;\">\n",
       "      <th></th>\n",
       "      <th>Class</th>\n",
       "      <th>ElmDB</th>\n",
       "      <th>PRS</th>\n",
       "      <th>RRSv1</th>\n",
       "      <th>PRS_fraction</th>\n",
       "      <th>RRSv1_fraction</th>\n",
       "    </tr>\n",
       "  </thead>\n",
       "  <tbody>\n",
       "    <tr>\n",
       "      <th>0</th>\n",
       "      <td>CLV</td>\n",
       "      <td>11</td>\n",
       "      <td>4</td>\n",
       "      <td>9</td>\n",
       "      <td>0.363636</td>\n",
       "      <td>0.818182</td>\n",
       "    </tr>\n",
       "    <tr>\n",
       "      <th>1</th>\n",
       "      <td>DEG</td>\n",
       "      <td>25</td>\n",
       "      <td>4</td>\n",
       "      <td>19</td>\n",
       "      <td>0.160000</td>\n",
       "      <td>0.760000</td>\n",
       "    </tr>\n",
       "    <tr>\n",
       "      <th>2</th>\n",
       "      <td>DOC</td>\n",
       "      <td>31</td>\n",
       "      <td>26</td>\n",
       "      <td>29</td>\n",
       "      <td>0.838710</td>\n",
       "      <td>0.935484</td>\n",
       "    </tr>\n",
       "    <tr>\n",
       "      <th>3</th>\n",
       "      <td>LIG</td>\n",
       "      <td>164</td>\n",
       "      <td>93</td>\n",
       "      <td>130</td>\n",
       "      <td>0.567073</td>\n",
       "      <td>0.792683</td>\n",
       "    </tr>\n",
       "    <tr>\n",
       "      <th>4</th>\n",
       "      <td>MOD</td>\n",
       "      <td>37</td>\n",
       "      <td>11</td>\n",
       "      <td>22</td>\n",
       "      <td>0.297297</td>\n",
       "      <td>0.594595</td>\n",
       "    </tr>\n",
       "    <tr>\n",
       "      <th>5</th>\n",
       "      <td>TRG</td>\n",
       "      <td>22</td>\n",
       "      <td>3</td>\n",
       "      <td>12</td>\n",
       "      <td>0.136364</td>\n",
       "      <td>0.545455</td>\n",
       "    </tr>\n",
       "  </tbody>\n",
       "</table>\n",
       "</div>"
      ],
      "text/plain": [
       "  Class  ElmDB  PRS  RRSv1  PRS_fraction  RRSv1_fraction\n",
       "0   CLV     11    4      9      0.363636        0.818182\n",
       "1   DEG     25    4     19      0.160000        0.760000\n",
       "2   DOC     31   26     29      0.838710        0.935484\n",
       "3   LIG    164   93    130      0.567073        0.792683\n",
       "4   MOD     37   11     22      0.297297        0.594595\n",
       "5   TRG     22    3     12      0.136364        0.545455"
      ]
     },
     "execution_count": 20,
     "metadata": {},
     "output_type": "execute_result"
    }
   ],
   "source": [
    "DMI_count_df['PRS_fraction']= DMI_count_df['PRS']/DMI_count_df['ElmDB']\n",
    "DMI_count_df['RRSv1_fraction']= DMI_count_df['RRSv1']/DMI_count_df['ElmDB']\n",
    "DMI_count_df"
   ]
  },
  {
   "cell_type": "code",
   "execution_count": 103,
   "metadata": {},
   "outputs": [
    {
     "data": {
      "image/png": "[encoded data removed]",
      "text/plain": [
       "<Figure size 576x432 with 1 Axes>"
      ]
     },
     "metadata": {
      "needs_background": "light"
     },
     "output_type": "display_data"
    }
   ],
   "source": [
    "N= 6\n",
    "ind= np.arange(N)\n",
    "width= 0.3\n",
    "\n",
    "plt.figure(figsize= (8,6))\n",
    "plt.bar(ind, DMI_count_df.PRS_fraction, width, color= 'c', label= 'PRS')\n",
    "plt.bar(ind + width, DMI_count_df.RRSv1_fraction, width, color= 'b', label= 'RRSv1')\n",
    "\n",
    "plt.xticks(ind + width / 2, DMI_count_df.Class)\n",
    "plt.title('Fraction of DMI represented in the PRS and RRSv1 by class')\n",
    "plt.ylabel('Fraction of DMI types with DMI instance')\n",
    "plt.legend(loc= 'best')\n",
    "\n",
    "plt.tight_layout()\n",
    "plt.savefig('/Users/johnlee/Coding/Python/DMI/PRS_RRS_analysis_plots/DMI_fraction_PRS_RRSv1.pdf')\n",
    "\n",
    "plt.show()"
   ]
  },
  {
   "cell_type": "code",
   "execution_count": 22,
   "metadata": {},
   "outputs": [
    {
     "data": {
      "image/png": "[encoded data removed]",
      "text/plain": [
       "<Figure size 864x432 with 2 Axes>"
      ]
     },
     "metadata": {
      "needs_background": "light"
     },
     "output_type": "display_data"
    }
   ],
   "source": [
    "fig, (ax1, ax2)= plt.subplots(1, 2, figsize= (12, 6), sharey= True)\n",
    "\n",
    "ax1.bar(DMI_count_df.Class, DMI_count_df.PRS_fraction)\n",
    "ax1.set_title('Fraction of DMI represented in the PRS by class')\n",
    "\n",
    "ax2.bar(DMI_count_df.Class, DMI_count_df.RRSv1_fraction)\n",
    "ax2.set_title('Fraction of DMI represented in the RRSv1 by class')\n",
    "\n",
    "ax1.set_ylabel('Fraction of DMI types with DMI instance')\n",
    "\n",
    "plt.show()"
   ]
  },
  {
   "cell_type": "markdown",
   "metadata": {},
   "source": [
    "While the representation of DMI types by class in PRS is uneven, that of RRSv1 is rather uniform."
   ]
  },
  {
   "cell_type": "code",
   "execution_count": 109,
   "metadata": {},
   "outputs": [
    {
     "data": {
      "image/png": "[encoded data removed]",
      "text/plain": [
       "<Figure size 576x648 with 2 Axes>"
      ]
     },
     "metadata": {
      "needs_background": "light"
     },
     "output_type": "display_data"
    }
   ],
   "source": [
    "b= np.linspace(0, 1, 100)\n",
    "\n",
    "fig, (ax1, ax2)= plt.subplots(2, 1, figsize= (8,9), sharex= True)\n",
    "\n",
    "ax1.hist(PRS.IUPredLong, bins= b)\n",
    "ax1.set_title('Distribution of SLiM match disorderedness score (IUPred Long) in PRS')\n",
    "\n",
    "ax2.hist(RRSv1.IUPredLong, bins= b)\n",
    "ax2.set_title('Distribution of SLiM match disorderedness score (IUPred Long) in RRSv1')\n",
    "\n",
    "fig.text(0.06, 0.5, 'Number of SLiM match', ha='center', va='center', rotation='vertical')\n",
    "\n",
    "plt.savefig('/Users/johnlee/Coding/Python/DMI/PRS_RRS_analysis_plots/IUPredLong_PRS_RRSv1.pdf')\n",
    "\n",
    "plt.show()"
   ]
  },
  {
   "cell_type": "markdown",
   "metadata": {},
   "source": [
    "Keep in mind that the y axes have different limit, because RRSv1 has more DMI instances than the PRS. \n",
    "\n",
    "The distribution of IUPred Long score in PRS appears to be normal, while that of RRSv1 is skewed to the left."
   ]
  },
  {
   "cell_type": "code",
   "execution_count": 108,
   "metadata": {},
   "outputs": [
    {
     "data": {
      "image/png": "[encoded data removed]",
      "text/plain": [
       "<Figure size 576x648 with 2 Axes>"
      ]
     },
     "metadata": {
      "needs_background": "light"
     },
     "output_type": "display_data"
    }
   ],
   "source": [
    "b= np.linspace(0, 1, 100)\n",
    "\n",
    "fig, (ax1, ax2)= plt.subplots(2, 1, figsize= (8,9), sharex= True)\n",
    "\n",
    "ax1.hist(PRS.IUPredShort, bins= b)\n",
    "ax1.set_title('Distribution of SLiM match disorderedness score (IUPred Short) in PRS')\n",
    "\n",
    "ax2.hist(RRSv1.IUPredShort, bins= b)\n",
    "ax2.set_title('Distribution of SLiM match disorderedness score (IUPred Short) in RRSv1')\n",
    "\n",
    "fig.text(0.06, 0.5, 'Number of SLiM match', ha='center', va='center', rotation='vertical')\n",
    "\n",
    "plt.savefig('/Users/johnlee/Coding/Python/DMI/PRS_RRS_analysis_plots/IUPredShort_PRS_RRSv1.pdf')\n",
    "\n",
    "plt.show()"
   ]
  },
  {
   "cell_type": "markdown",
   "metadata": {},
   "source": [
    "The distribution of IUPred Short score in PRS appears to be normal, while that of RRSv1 is skewed to the left."
   ]
  },
  {
   "cell_type": "code",
   "execution_count": 107,
   "metadata": {},
   "outputs": [
    {
     "data": {
      "image/png": "[encoded data removed]",
      "text/plain": [
       "<Figure size 576x648 with 2 Axes>"
      ]
     },
     "metadata": {
      "needs_background": "light"
     },
     "output_type": "display_data"
    }
   ],
   "source": [
    "b= np.linspace(0, 1, 100)\n",
    "\n",
    "fig, (ax1, ax2)= plt.subplots(2, 1, figsize= (8,9), sharex= True)\n",
    "\n",
    "ax1.hist(PRS.Anchor, bins= b)\n",
    "ax1.set_title('Distribution of SLiM match ANCHOR2 in PRS')\n",
    "\n",
    "ax2.hist(RRSv1.Anchor, bins= b)\n",
    "ax2.set_title('Distribution of SLiM match ANCHOR2 in RRSv1')\n",
    "\n",
    "fig.text(0.06, 0.5, 'Number of SLiM match', ha='center', va='center', rotation='vertical')\n",
    "\n",
    "plt.savefig('/Users/johnlee/Coding/Python/DMI/PRS_RRS_analysis_plots/ANCHOR2_PRS_RRSv1.pdf')\n",
    "\n",
    "plt.show()"
   ]
  },
  {
   "cell_type": "markdown",
   "metadata": {},
   "source": [
    "The distributions of ANCHOR2 scores in both PRS and RRSv1 appear to be normal, but that of RRSv1 has a peak at the low extremity of the score."
   ]
  },
  {
   "cell_type": "code",
   "execution_count": 26,
   "metadata": {},
   "outputs": [
    {
     "data": {
      "text/html": [
       "<div>\n",
       "<style scoped>\n",
       "    .dataframe tbody tr th:only-of-type {\n",
       "        vertical-align: middle;\n",
       "    }\n",
       "\n",
       "    .dataframe tbody tr th {\n",
       "        vertical-align: top;\n",
       "    }\n",
       "\n",
       "    .dataframe thead th {\n",
       "        text-align: right;\n",
       "    }\n",
       "</style>\n",
       "<table border=\"1\" class=\"dataframe\">\n",
       "  <thead>\n",
       "    <tr style=\"text-align: right;\">\n",
       "      <th></th>\n",
       "      <th>Elm</th>\n",
       "      <th>interactorElm</th>\n",
       "      <th>ElmMatch</th>\n",
       "      <th>IUPredLong</th>\n",
       "      <th>IUPredShort</th>\n",
       "      <th>Anchor</th>\n",
       "      <th>interactorDomain</th>\n",
       "      <th>HMMOld1</th>\n",
       "      <th>DomainMatchOld1</th>\n",
       "      <th>DomainNameNew1</th>\n",
       "      <th>HMMNew1</th>\n",
       "      <th>DomainMatchNew1</th>\n",
       "      <th>DomainMatchNew1Evalue</th>\n",
       "      <th>DomainSource1</th>\n",
       "      <th>JaccardDistance1</th>\n",
       "      <th>HMMOld2</th>\n",
       "      <th>DomainMatchOld2</th>\n",
       "      <th>DomainNameNew2</th>\n",
       "      <th>HMMNew2</th>\n",
       "      <th>DomainMatchNew2</th>\n",
       "      <th>DomainMatchNew2Evalue</th>\n",
       "      <th>DomainSource2</th>\n",
       "      <th>JaccardDistance2</th>\n",
       "      <th>DMISource</th>\n",
       "      <th>Comment</th>\n",
       "    </tr>\n",
       "  </thead>\n",
       "  <tbody>\n",
       "    <tr>\n",
       "      <th>1324</th>\n",
       "      <td>LIG_CaM_IQ_9</td>\n",
       "      <td>P38377</td>\n",
       "      <td>16-31</td>\n",
       "      <td>0.048580</td>\n",
       "      <td>0.029125</td>\n",
       "      <td>0.008671</td>\n",
       "      <td>P0DP23</td>\n",
       "      <td>PF13499</td>\n",
       "      <td>85-146</td>\n",
       "      <td>EFh</td>\n",
       "      <td>SM00054</td>\n",
       "      <td>12-40|48-76|85-113|121-149</td>\n",
       "      <td>6.39052688397453e-09|5.19072077635924e-09|3.67...</td>\n",
       "      <td>SMART</td>\n",
       "      <td>0.467742</td>\n",
       "      <td>NaN</td>\n",
       "      <td>NaN</td>\n",
       "      <td>NaN</td>\n",
       "      <td>NaN</td>\n",
       "      <td>NaN</td>\n",
       "      <td>NaN</td>\n",
       "      <td>NaN</td>\n",
       "      <td>NaN</td>\n",
       "      <td>ELM</td>\n",
       "      <td>P62161 (mouse protein) is obsolete and demerge...</td>\n",
       "    </tr>\n",
       "    <tr>\n",
       "      <th>1325</th>\n",
       "      <td>LIG_CaM_IQ_9</td>\n",
       "      <td>P40146</td>\n",
       "      <td>1194-1209</td>\n",
       "      <td>0.335542</td>\n",
       "      <td>0.281031</td>\n",
       "      <td>0.405147</td>\n",
       "      <td>P0DP23</td>\n",
       "      <td>PF13499</td>\n",
       "      <td>85-146</td>\n",
       "      <td>EFh</td>\n",
       "      <td>SM00054</td>\n",
       "      <td>12-40|48-76|85-113|121-149</td>\n",
       "      <td>6.39052688397453e-09|5.19072077635924e-09|3.67...</td>\n",
       "      <td>SMART</td>\n",
       "      <td>0.467742</td>\n",
       "      <td>NaN</td>\n",
       "      <td>NaN</td>\n",
       "      <td>NaN</td>\n",
       "      <td>NaN</td>\n",
       "      <td>NaN</td>\n",
       "      <td>NaN</td>\n",
       "      <td>NaN</td>\n",
       "      <td>NaN</td>\n",
       "      <td>ELM</td>\n",
       "      <td>P62161 (mouse protein) is obsolete and demerge...</td>\n",
       "    </tr>\n",
       "    <tr>\n",
       "      <th>1020</th>\n",
       "      <td>LIG_Rb_LxCxE_1</td>\n",
       "      <td>P0DOV2</td>\n",
       "      <td>418-434</td>\n",
       "      <td>0.618123</td>\n",
       "      <td>0.651388</td>\n",
       "      <td>0.350809</td>\n",
       "      <td>P06400</td>\n",
       "      <td>PF01857</td>\n",
       "      <td>646-765</td>\n",
       "      <td>RB_B</td>\n",
       "      <td>PF01857</td>\n",
       "      <td>646-765</td>\n",
       "      <td>8.4E-37</td>\n",
       "      <td>PFAM</td>\n",
       "      <td>1.000000</td>\n",
       "      <td>NaN</td>\n",
       "      <td>NaN</td>\n",
       "      <td>NaN</td>\n",
       "      <td>NaN</td>\n",
       "      <td>NaN</td>\n",
       "      <td>NaN</td>\n",
       "      <td>NaN</td>\n",
       "      <td>NaN</td>\n",
       "      <td>ELM</td>\n",
       "      <td>P15092 (mouse protein) is obsolete in the UniP...</td>\n",
       "    </tr>\n",
       "    <tr>\n",
       "      <th>1329</th>\n",
       "      <td>LIG_CaM_IQ_9</td>\n",
       "      <td>Q13698</td>\n",
       "      <td>1526-1542</td>\n",
       "      <td>0.129041</td>\n",
       "      <td>0.119906</td>\n",
       "      <td>0.387483</td>\n",
       "      <td>P0DP23</td>\n",
       "      <td>PF13499</td>\n",
       "      <td>85-146</td>\n",
       "      <td>EFh</td>\n",
       "      <td>SM00054</td>\n",
       "      <td>12-40|48-76|85-113|121-149</td>\n",
       "      <td>6.39052688397453e-09|5.19072077635924e-09|3.67...</td>\n",
       "      <td>SMART</td>\n",
       "      <td>0.467742</td>\n",
       "      <td>NaN</td>\n",
       "      <td>NaN</td>\n",
       "      <td>NaN</td>\n",
       "      <td>NaN</td>\n",
       "      <td>NaN</td>\n",
       "      <td>NaN</td>\n",
       "      <td>NaN</td>\n",
       "      <td>NaN</td>\n",
       "      <td>ELM</td>\n",
       "      <td>P62158 (mouse protein) is obsolete and demerge...</td>\n",
       "    </tr>\n",
       "    <tr>\n",
       "      <th>1330</th>\n",
       "      <td>LIG_CaM_IQ_9</td>\n",
       "      <td>Q13936</td>\n",
       "      <td>1669-1685</td>\n",
       "      <td>0.161525</td>\n",
       "      <td>0.176053</td>\n",
       "      <td>0.380697</td>\n",
       "      <td>P0DP23</td>\n",
       "      <td>PF13499</td>\n",
       "      <td>85-146</td>\n",
       "      <td>EFh</td>\n",
       "      <td>SM00054</td>\n",
       "      <td>12-40|48-76|85-113|121-149</td>\n",
       "      <td>6.39052688397453e-09|5.19072077635924e-09|3.67...</td>\n",
       "      <td>SMART</td>\n",
       "      <td>0.467742</td>\n",
       "      <td>NaN</td>\n",
       "      <td>NaN</td>\n",
       "      <td>NaN</td>\n",
       "      <td>NaN</td>\n",
       "      <td>NaN</td>\n",
       "      <td>NaN</td>\n",
       "      <td>NaN</td>\n",
       "      <td>NaN</td>\n",
       "      <td>ELM</td>\n",
       "      <td>P62158 (mouse protein) is obsolete and demerge...</td>\n",
       "    </tr>\n",
       "  </tbody>\n",
       "</table>\n",
       "</div>"
      ],
      "text/plain": [
       "                 Elm interactorElm   ElmMatch  IUPredLong  IUPredShort  \\\n",
       "1324    LIG_CaM_IQ_9        P38377      16-31    0.048580     0.029125   \n",
       "1325    LIG_CaM_IQ_9        P40146  1194-1209    0.335542     0.281031   \n",
       "1020  LIG_Rb_LxCxE_1        P0DOV2    418-434    0.618123     0.651388   \n",
       "1329    LIG_CaM_IQ_9        Q13698  1526-1542    0.129041     0.119906   \n",
       "1330    LIG_CaM_IQ_9        Q13936  1669-1685    0.161525     0.176053   \n",
       "\n",
       "        Anchor interactorDomain  HMMOld1 DomainMatchOld1 DomainNameNew1  \\\n",
       "1324  0.008671           P0DP23  PF13499          85-146            EFh   \n",
       "1325  0.405147           P0DP23  PF13499          85-146            EFh   \n",
       "1020  0.350809           P06400  PF01857         646-765           RB_B   \n",
       "1329  0.387483           P0DP23  PF13499          85-146            EFh   \n",
       "1330  0.380697           P0DP23  PF13499          85-146            EFh   \n",
       "\n",
       "      HMMNew1             DomainMatchNew1  \\\n",
       "1324  SM00054  12-40|48-76|85-113|121-149   \n",
       "1325  SM00054  12-40|48-76|85-113|121-149   \n",
       "1020  PF01857                     646-765   \n",
       "1329  SM00054  12-40|48-76|85-113|121-149   \n",
       "1330  SM00054  12-40|48-76|85-113|121-149   \n",
       "\n",
       "                                  DomainMatchNew1Evalue DomainSource1  \\\n",
       "1324  6.39052688397453e-09|5.19072077635924e-09|3.67...         SMART   \n",
       "1325  6.39052688397453e-09|5.19072077635924e-09|3.67...         SMART   \n",
       "1020                                            8.4E-37          PFAM   \n",
       "1329  6.39052688397453e-09|5.19072077635924e-09|3.67...         SMART   \n",
       "1330  6.39052688397453e-09|5.19072077635924e-09|3.67...         SMART   \n",
       "\n",
       "      JaccardDistance1 HMMOld2 DomainMatchOld2 DomainNameNew2 HMMNew2  \\\n",
       "1324          0.467742     NaN             NaN            NaN     NaN   \n",
       "1325          0.467742     NaN             NaN            NaN     NaN   \n",
       "1020          1.000000     NaN             NaN            NaN     NaN   \n",
       "1329          0.467742     NaN             NaN            NaN     NaN   \n",
       "1330          0.467742     NaN             NaN            NaN     NaN   \n",
       "\n",
       "     DomainMatchNew2  DomainMatchNew2Evalue DomainSource2  JaccardDistance2  \\\n",
       "1324             NaN                    NaN           NaN               NaN   \n",
       "1325             NaN                    NaN           NaN               NaN   \n",
       "1020             NaN                    NaN           NaN               NaN   \n",
       "1329             NaN                    NaN           NaN               NaN   \n",
       "1330             NaN                    NaN           NaN               NaN   \n",
       "\n",
       "     DMISource                                            Comment  \n",
       "1324       ELM  P62161 (mouse protein) is obsolete and demerge...  \n",
       "1325       ELM  P62161 (mouse protein) is obsolete and demerge...  \n",
       "1020       ELM  P15092 (mouse protein) is obsolete in the UniP...  \n",
       "1329       ELM  P62158 (mouse protein) is obsolete and demerge...  \n",
       "1330       ELM  P62158 (mouse protein) is obsolete and demerge...  "
      ]
     },
     "execution_count": 26,
     "metadata": {},
     "output_type": "execute_result"
    }
   ],
   "source": [
    "PRS.head()"
   ]
  },
  {
   "cell_type": "code",
   "execution_count": 27,
   "metadata": {},
   "outputs": [
    {
     "data": {
      "text/plain": [
       "2245"
      ]
     },
     "execution_count": 27,
     "metadata": {},
     "output_type": "execute_result"
    }
   ],
   "source": [
    "PRS_evalues= []\n",
    "for i, r in PRS.iterrows():\n",
    "    ev= ''\n",
    "    ev2= ''\n",
    "    if type(r['DomainMatchNew1Evalue']) == str:\n",
    "        ev= r['DomainMatchNew1Evalue'].split('|')\n",
    "        for e in ev:\n",
    "            PRS_evalues.append(float(e))\n",
    "    else:\n",
    "        PRS_evalues.append(float(r['DomainMatchNew1Evalue']))\n",
    "    if pd.isna(r['DomainMatchNew2Evalue']) == False:\n",
    "        if type(r['DomainMatchNew2Evalue']) == str:\n",
    "            ev2= r['DomainMatchNew2Evalue'].split('|')\n",
    "            for e2 in ev2:\n",
    "                PRS_evalues.append(float(e2))\n",
    "        else:\n",
    "            PRS_evalues.append(float(r['DomainMatchNew2Evalue']))\n",
    "len(PRS_evalues)"
   ]
  },
  {
   "cell_type": "code",
   "execution_count": 28,
   "metadata": {},
   "outputs": [
    {
     "data": {
      "text/plain": [
       "9024"
      ]
     },
     "execution_count": 28,
     "metadata": {},
     "output_type": "execute_result"
    }
   ],
   "source": [
    "RRSv1_evalues= []\n",
    "for i, r in RRSv1.iterrows():\n",
    "    ev= ''\n",
    "    ev2= ''\n",
    "    if type(r['Evalue1']) == str:\n",
    "        ev= r['Evalue1'].split('|')\n",
    "        for e in ev:\n",
    "            RRSv1_evalues.append(float(e))\n",
    "    else:\n",
    "        RRSv1_evalues.append(float(r['Evalue1']))\n",
    "    if pd.isna(r['Evalue2']) == False:\n",
    "        if type(r['Evalue2']) == str:\n",
    "            ev2= r['Evalue2'].split('|')\n",
    "            for e2 in ev2:\n",
    "                RRSv1_evalues.append(float(e2))\n",
    "        else:\n",
    "            RRSv1_evalues.append(float(r['Evalue2']))\n",
    "len(RRSv1_evalues)"
   ]
  },
  {
   "cell_type": "code",
   "execution_count": 110,
   "metadata": {
    "scrolled": false
   },
   "outputs": [
    {
     "data": {
      "image/png": "[encoded data removed]",
      "text/plain": [
       "<Figure size 576x648 with 2 Axes>"
      ]
     },
     "metadata": {
      "needs_background": "light"
     },
     "output_type": "display_data"
    }
   ],
   "source": [
    "b= np.logspace(np.log10(min([ev for ev in PRS_evalues + RRSv1_evalues if ev != 0])), np.log10(max(PRS_evalues + RRSv1_evalues)), 100)\n",
    "\n",
    "fig, (ax1, ax2)= plt.subplots(2, 1, figsize= (8,9), sharex= True)\n",
    "\n",
    "ax1.hist(PRS_evalues, bins= b)\n",
    "ax1.set_title('Distribution of domain match e-values in PRS')\n",
    "ax1.set_xscale('log')\n",
    "\n",
    "ax2.hist(RRSv1_evalues, bins= b)\n",
    "ax2.set_title('Distribution of domain match e-values in RRSv1')\n",
    "ax2.set_xscale('log')\n",
    "\n",
    "fig.text(0.06, 0.5, 'Number of domain match', ha='center', va='center', rotation='vertical')\n",
    "\n",
    "plt.savefig('/Users/johnlee/Coding/Python/DMI/PRS_RRS_analysis_plots/evalues_PRS_RRSv1.pdf')\n",
    "\n",
    "plt.show()"
   ]
  },
  {
   "cell_type": "markdown",
   "metadata": {},
   "source": [
    "The distribution of evalues of domain matches in PRS and RRSv1 are both skewed to the right, but that of PRS has a longer tail to the left, with some instances having extremely low e-values. "
   ]
  },
  {
   "cell_type": "code",
   "execution_count": 100,
   "metadata": {},
   "outputs": [],
   "source": [
    "class Protein1:\n",
    "    def __init__(self):\n",
    "        self.taxon= 'human'\n",
    "        \n",
    "    def _taxon(self):\n",
    "        return self.taxon\n",
    "    \n",
    "class Protein2(Protein1):\n",
    "    def __init__(self):\n",
    "        super().__init__()\n",
    "        self.id= 'id'\n",
    "        self.name= 'bc'\n",
    "        \n",
    "class Protein3(Protein2):\n",
    "    def __init__(self):\n",
    "        super().__init__()\n",
    "        self.length= ''"
   ]
  },
  {
   "cell_type": "code",
   "execution_count": 101,
   "metadata": {},
   "outputs": [],
   "source": [
    "a= Protein2()"
   ]
  },
  {
   "cell_type": "code",
   "execution_count": 102,
   "metadata": {},
   "outputs": [
    {
     "data": {
      "text/plain": [
       "'human'"
      ]
     },
     "execution_count": 102,
     "metadata": {},
     "output_type": "execute_result"
    }
   ],
   "source": [
    "a._taxon()"
   ]
  },
  {
   "cell_type": "code",
   "execution_count": 96,
   "metadata": {},
   "outputs": [
    {
     "data": {
      "text/plain": [
       "{'taxon': 'human', 'id': 'id', 'name': 'bc', 'length': ''}"
      ]
     },
     "execution_count": 96,
     "metadata": {},
     "output_type": "execute_result"
    }
   ],
   "source": [
    "a.__dict__"
   ]
  },
  {
   "cell_type": "code",
   "execution_count": null,
   "metadata": {},
   "outputs": [],
   "source": []
  }
 ],
 "metadata": {
  "kernelspec": {
   "display_name": "Python 3",
   "language": "python",
   "name": "python3"
  },
  "language_info": {
   "codemirror_mode": {
    "name": "ipython",
    "version": 3
   },
   "file_extension": ".py",
   "mimetype": "text/x-python",
   "name": "python",
   "nbconvert_exporter": "python",
   "pygments_lexer": "ipython3",
   "version": "3.8.1"
  }
 },
 "nbformat": 4,
 "nbformat_minor": 4
}
